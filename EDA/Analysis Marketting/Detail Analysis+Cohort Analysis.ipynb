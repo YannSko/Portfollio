{
 "cells": [
  {
   "cell_type": "markdown",
   "id": "dc101e5e",
   "metadata": {},
   "source": [
    "# Exploratory data analysis with Pandas & Matplotlib"
   ]
  },
  {
   "cell_type": "code",
   "execution_count": 1,
   "id": "07097343",
   "metadata": {},
   "outputs": [],
   "source": [
    "import os\n",
    "import pandas as pd\n",
    "import numpy as np\n",
    "\n",
    "# Data visualization\n",
    "import matplotlib.pyplot as plt\n",
    "import plotly.express as px"
   ]
  },
  {
   "cell_type": "code",
   "execution_count": 2,
   "id": "d1f175f4",
   "metadata": {},
   "outputs": [],
   "source": [
    "# read the file\n",
    "df = pd.read_excel(\"Online_Retail.xlsx\")\n",
    "\n"
   ]
  },
  {
   "cell_type": "code",
   "execution_count": 3,
   "id": "5767318b",
   "metadata": {},
   "outputs": [
    {
     "data": {
      "text/html": [
       "<div>\n",
       "<style scoped>\n",
       "    .dataframe tbody tr th:only-of-type {\n",
       "        vertical-align: middle;\n",
       "    }\n",
       "\n",
       "    .dataframe tbody tr th {\n",
       "        vertical-align: top;\n",
       "    }\n",
       "\n",
       "    .dataframe thead th {\n",
       "        text-align: right;\n",
       "    }\n",
       "</style>\n",
       "<table border=\"1\" class=\"dataframe\">\n",
       "  <thead>\n",
       "    <tr style=\"text-align: right;\">\n",
       "      <th></th>\n",
       "      <th>Invoice</th>\n",
       "      <th>StockCode</th>\n",
       "      <th>Description</th>\n",
       "      <th>Quantity</th>\n",
       "      <th>InvoiceDate</th>\n",
       "      <th>Price</th>\n",
       "      <th>Customer ID</th>\n",
       "      <th>Country</th>\n",
       "    </tr>\n",
       "  </thead>\n",
       "  <tbody>\n",
       "    <tr>\n",
       "      <th>0</th>\n",
       "      <td>489434</td>\n",
       "      <td>85048</td>\n",
       "      <td>15CM CHRISTMAS GLASS BALL 20 LIGHTS</td>\n",
       "      <td>12</td>\n",
       "      <td>2009-12-01 07:45:00</td>\n",
       "      <td>6.95</td>\n",
       "      <td>13085.0</td>\n",
       "      <td>United Kingdom</td>\n",
       "    </tr>\n",
       "    <tr>\n",
       "      <th>1</th>\n",
       "      <td>489434</td>\n",
       "      <td>79323P</td>\n",
       "      <td>PINK CHERRY LIGHTS</td>\n",
       "      <td>12</td>\n",
       "      <td>2009-12-01 07:45:00</td>\n",
       "      <td>6.75</td>\n",
       "      <td>13085.0</td>\n",
       "      <td>United Kingdom</td>\n",
       "    </tr>\n",
       "    <tr>\n",
       "      <th>2</th>\n",
       "      <td>489434</td>\n",
       "      <td>79323W</td>\n",
       "      <td>WHITE CHERRY LIGHTS</td>\n",
       "      <td>12</td>\n",
       "      <td>2009-12-01 07:45:00</td>\n",
       "      <td>6.75</td>\n",
       "      <td>13085.0</td>\n",
       "      <td>United Kingdom</td>\n",
       "    </tr>\n",
       "    <tr>\n",
       "      <th>3</th>\n",
       "      <td>489434</td>\n",
       "      <td>22041</td>\n",
       "      <td>RECORD FRAME 7\" SINGLE SIZE</td>\n",
       "      <td>48</td>\n",
       "      <td>2009-12-01 07:45:00</td>\n",
       "      <td>2.10</td>\n",
       "      <td>13085.0</td>\n",
       "      <td>United Kingdom</td>\n",
       "    </tr>\n",
       "    <tr>\n",
       "      <th>4</th>\n",
       "      <td>489434</td>\n",
       "      <td>21232</td>\n",
       "      <td>STRAWBERRY CERAMIC TRINKET BOX</td>\n",
       "      <td>24</td>\n",
       "      <td>2009-12-01 07:45:00</td>\n",
       "      <td>1.25</td>\n",
       "      <td>13085.0</td>\n",
       "      <td>United Kingdom</td>\n",
       "    </tr>\n",
       "  </tbody>\n",
       "</table>\n",
       "</div>"
      ],
      "text/plain": [
       "  Invoice StockCode                          Description  Quantity  \\\n",
       "0  489434     85048  15CM CHRISTMAS GLASS BALL 20 LIGHTS        12   \n",
       "1  489434    79323P                   PINK CHERRY LIGHTS        12   \n",
       "2  489434    79323W                  WHITE CHERRY LIGHTS        12   \n",
       "3  489434     22041         RECORD FRAME 7\" SINGLE SIZE         48   \n",
       "4  489434     21232       STRAWBERRY CERAMIC TRINKET BOX        24   \n",
       "\n",
       "          InvoiceDate  Price  Customer ID         Country  \n",
       "0 2009-12-01 07:45:00   6.95      13085.0  United Kingdom  \n",
       "1 2009-12-01 07:45:00   6.75      13085.0  United Kingdom  \n",
       "2 2009-12-01 07:45:00   6.75      13085.0  United Kingdom  \n",
       "3 2009-12-01 07:45:00   2.10      13085.0  United Kingdom  \n",
       "4 2009-12-01 07:45:00   1.25      13085.0  United Kingdom  "
      ]
     },
     "execution_count": 3,
     "metadata": {},
     "output_type": "execute_result"
    }
   ],
   "source": [
    "df.head()"
   ]
  },
  {
   "cell_type": "code",
   "execution_count": 4,
   "id": "f76c0693",
   "metadata": {},
   "outputs": [
    {
     "data": {
      "text/plain": [
       "(525461, 8)"
      ]
     },
     "execution_count": 4,
     "metadata": {},
     "output_type": "execute_result"
    }
   ],
   "source": [
    "df.shape"
   ]
  },
  {
   "cell_type": "code",
   "execution_count": 5,
   "id": "749df517",
   "metadata": {},
   "outputs": [
    {
     "name": "stdout",
     "output_type": "stream",
     "text": [
      "<class 'pandas.core.frame.DataFrame'>\n",
      "RangeIndex: 525461 entries, 0 to 525460\n",
      "Data columns (total 8 columns):\n",
      " #   Column       Non-Null Count   Dtype         \n",
      "---  ------       --------------   -----         \n",
      " 0   Invoice      525461 non-null  object        \n",
      " 1   StockCode    525461 non-null  object        \n",
      " 2   Description  522533 non-null  object        \n",
      " 3   Quantity     525461 non-null  int64         \n",
      " 4   InvoiceDate  525461 non-null  datetime64[ns]\n",
      " 5   Price        525461 non-null  float64       \n",
      " 6   Customer ID  417534 non-null  float64       \n",
      " 7   Country      525461 non-null  object        \n",
      "dtypes: datetime64[ns](1), float64(2), int64(1), object(4)\n",
      "memory usage: 131.6 MB\n"
     ]
    }
   ],
   "source": [
    "df.info(memory_usage='deep')"
   ]
  },
  {
   "attachments": {},
   "cell_type": "markdown",
   "id": "bfa7b469",
   "metadata": {},
   "source": [
    "# Columns Description\n",
    "\n"
   ]
  },
  {
   "cell_type": "code",
   "execution_count": 6,
   "id": "b9a271d9",
   "metadata": {},
   "outputs": [
    {
     "data": {
      "text/plain": [
       "Index(['invoice', 'stockcode', 'description', 'quantity', 'invoicedate',\n",
       "       'price', 'customer_id', 'country'],\n",
       "      dtype='object')"
      ]
     },
     "execution_count": 6,
     "metadata": {},
     "output_type": "execute_result"
    }
   ],
   "source": [
    "df.columns.str.replace(\" \", \"_\").str.lower()"
   ]
  },
  {
   "cell_type": "code",
   "execution_count": 7,
   "id": "b4145fd9",
   "metadata": {},
   "outputs": [],
   "source": [
    "# change columns to lowercase and remove whitespace in between \n",
    "# this is useful for using the df.column_name syntax later on\n",
    "df.columns = ['invoice_id', 'item_id', 'description', 'quantity', 'date',\n",
    "              'price', 'customer_id', 'country']"
   ]
  },
  {
   "cell_type": "code",
   "execution_count": 8,
   "id": "74358d82",
   "metadata": {},
   "outputs": [
    {
     "data": {
      "text/html": [
       "<div>\n",
       "<style scoped>\n",
       "    .dataframe tbody tr th:only-of-type {\n",
       "        vertical-align: middle;\n",
       "    }\n",
       "\n",
       "    .dataframe tbody tr th {\n",
       "        vertical-align: top;\n",
       "    }\n",
       "\n",
       "    .dataframe thead th {\n",
       "        text-align: right;\n",
       "    }\n",
       "</style>\n",
       "<table border=\"1\" class=\"dataframe\">\n",
       "  <thead>\n",
       "    <tr style=\"text-align: right;\">\n",
       "      <th></th>\n",
       "      <th>invoice_id</th>\n",
       "      <th>item_id</th>\n",
       "      <th>description</th>\n",
       "      <th>quantity</th>\n",
       "      <th>date</th>\n",
       "      <th>price</th>\n",
       "      <th>customer_id</th>\n",
       "      <th>country</th>\n",
       "    </tr>\n",
       "  </thead>\n",
       "  <tbody>\n",
       "    <tr>\n",
       "      <th>0</th>\n",
       "      <td>489434</td>\n",
       "      <td>85048</td>\n",
       "      <td>15CM CHRISTMAS GLASS BALL 20 LIGHTS</td>\n",
       "      <td>12</td>\n",
       "      <td>2009-12-01 07:45:00</td>\n",
       "      <td>6.95</td>\n",
       "      <td>13085.0</td>\n",
       "      <td>United Kingdom</td>\n",
       "    </tr>\n",
       "    <tr>\n",
       "      <th>1</th>\n",
       "      <td>489434</td>\n",
       "      <td>79323P</td>\n",
       "      <td>PINK CHERRY LIGHTS</td>\n",
       "      <td>12</td>\n",
       "      <td>2009-12-01 07:45:00</td>\n",
       "      <td>6.75</td>\n",
       "      <td>13085.0</td>\n",
       "      <td>United Kingdom</td>\n",
       "    </tr>\n",
       "    <tr>\n",
       "      <th>2</th>\n",
       "      <td>489434</td>\n",
       "      <td>79323W</td>\n",
       "      <td>WHITE CHERRY LIGHTS</td>\n",
       "      <td>12</td>\n",
       "      <td>2009-12-01 07:45:00</td>\n",
       "      <td>6.75</td>\n",
       "      <td>13085.0</td>\n",
       "      <td>United Kingdom</td>\n",
       "    </tr>\n",
       "    <tr>\n",
       "      <th>3</th>\n",
       "      <td>489434</td>\n",
       "      <td>22041</td>\n",
       "      <td>RECORD FRAME 7\" SINGLE SIZE</td>\n",
       "      <td>48</td>\n",
       "      <td>2009-12-01 07:45:00</td>\n",
       "      <td>2.10</td>\n",
       "      <td>13085.0</td>\n",
       "      <td>United Kingdom</td>\n",
       "    </tr>\n",
       "    <tr>\n",
       "      <th>4</th>\n",
       "      <td>489434</td>\n",
       "      <td>21232</td>\n",
       "      <td>STRAWBERRY CERAMIC TRINKET BOX</td>\n",
       "      <td>24</td>\n",
       "      <td>2009-12-01 07:45:00</td>\n",
       "      <td>1.25</td>\n",
       "      <td>13085.0</td>\n",
       "      <td>United Kingdom</td>\n",
       "    </tr>\n",
       "  </tbody>\n",
       "</table>\n",
       "</div>"
      ],
      "text/plain": [
       "  invoice_id item_id                          description  quantity  \\\n",
       "0     489434   85048  15CM CHRISTMAS GLASS BALL 20 LIGHTS        12   \n",
       "1     489434  79323P                   PINK CHERRY LIGHTS        12   \n",
       "2     489434  79323W                  WHITE CHERRY LIGHTS        12   \n",
       "3     489434   22041         RECORD FRAME 7\" SINGLE SIZE         48   \n",
       "4     489434   21232       STRAWBERRY CERAMIC TRINKET BOX        24   \n",
       "\n",
       "                 date  price  customer_id         country  \n",
       "0 2009-12-01 07:45:00   6.95      13085.0  United Kingdom  \n",
       "1 2009-12-01 07:45:00   6.75      13085.0  United Kingdom  \n",
       "2 2009-12-01 07:45:00   6.75      13085.0  United Kingdom  \n",
       "3 2009-12-01 07:45:00   2.10      13085.0  United Kingdom  \n",
       "4 2009-12-01 07:45:00   1.25      13085.0  United Kingdom  "
      ]
     },
     "execution_count": 8,
     "metadata": {},
     "output_type": "execute_result"
    }
   ],
   "source": [
    "df.head()"
   ]
  },
  {
   "cell_type": "markdown",
   "id": "c756a8bf",
   "metadata": {},
   "source": [
    "## 1. Simple Statistics\n",
    "\n",
    "The idea of this is to understand better the dataset"
   ]
  },
  {
   "cell_type": "code",
   "execution_count": 13,
   "id": "b4db5b44",
   "metadata": {},
   "outputs": [
    {
     "data": {
      "text/plain": [
       "(28816,)"
      ]
     },
     "execution_count": 13,
     "metadata": {},
     "output_type": "execute_result"
    }
   ],
   "source": [
    "# Number of invoice_ids\n",
    "df.invoice_id.unique().shape"
   ]
  },
  {
   "cell_type": "code",
   "execution_count": 14,
   "id": "64d3a603",
   "metadata": {},
   "outputs": [
    {
     "data": {
      "text/plain": [
       "(4632,)"
      ]
     },
     "execution_count": 14,
     "metadata": {},
     "output_type": "execute_result"
    }
   ],
   "source": [
    "# Number of item_ids\n",
    "df.item_id.unique().shape"
   ]
  },
  {
   "cell_type": "code",
   "execution_count": 15,
   "id": "23f5cbc5",
   "metadata": {},
   "outputs": [
    {
     "data": {
      "text/plain": [
       "(4682,)"
      ]
     },
     "execution_count": 15,
     "metadata": {},
     "output_type": "execute_result"
    }
   ],
   "source": [
    "# Number of description\n",
    "df.description.unique().shape"
   ]
  },
  {
   "cell_type": "code",
   "execution_count": 16,
   "id": "2357df58",
   "metadata": {},
   "outputs": [
    {
     "data": {
      "text/plain": [
       "(4384,)"
      ]
     },
     "execution_count": 16,
     "metadata": {},
     "output_type": "execute_result"
    }
   ],
   "source": [
    "# Number of customers\n",
    "df.customer_id.unique().shape"
   ]
  },
  {
   "cell_type": "code",
   "execution_count": 17,
   "id": "5c43018a",
   "metadata": {},
   "outputs": [
    {
     "data": {
      "text/plain": [
       "(Timestamp('2009-12-01 07:45:00'), Timestamp('2010-12-09 20:01:00'))"
      ]
     },
     "execution_count": 17,
     "metadata": {},
     "output_type": "execute_result"
    }
   ],
   "source": [
    "# Start/End of date\n",
    "df.date.min(), df.date.max()"
   ]
  },
  {
   "cell_type": "code",
   "execution_count": 18,
   "id": "2456d36b",
   "metadata": {},
   "outputs": [
    {
     "data": {
      "text/plain": [
       "(40,)"
      ]
     },
     "execution_count": 18,
     "metadata": {},
     "output_type": "execute_result"
    }
   ],
   "source": [
    "# number of countries\n",
    "df.country.unique().shape"
   ]
  },
  {
   "cell_type": "markdown",
   "id": "503d728d",
   "metadata": {},
   "source": [
    "## 2. Initial data analysis"
   ]
  },
  {
   "cell_type": "code",
   "execution_count": 19,
   "id": "929f73ef",
   "metadata": {},
   "outputs": [],
   "source": [
    "# let's create the sales column\n",
    "df['sales'] = df['quantity'] * df['price']"
   ]
  },
  {
   "cell_type": "code",
   "execution_count": 20,
   "id": "fe426bec",
   "metadata": {},
   "outputs": [
    {
     "data": {
      "text/html": [
       "<div>\n",
       "<style scoped>\n",
       "    .dataframe tbody tr th:only-of-type {\n",
       "        vertical-align: middle;\n",
       "    }\n",
       "\n",
       "    .dataframe tbody tr th {\n",
       "        vertical-align: top;\n",
       "    }\n",
       "\n",
       "    .dataframe thead th {\n",
       "        text-align: right;\n",
       "    }\n",
       "</style>\n",
       "<table border=\"1\" class=\"dataframe\">\n",
       "  <thead>\n",
       "    <tr style=\"text-align: right;\">\n",
       "      <th></th>\n",
       "      <th>invoice_id</th>\n",
       "      <th>item_id</th>\n",
       "      <th>description</th>\n",
       "      <th>quantity</th>\n",
       "      <th>date</th>\n",
       "      <th>price</th>\n",
       "      <th>customer_id</th>\n",
       "      <th>country</th>\n",
       "      <th>sales</th>\n",
       "    </tr>\n",
       "  </thead>\n",
       "  <tbody>\n",
       "    <tr>\n",
       "      <th>0</th>\n",
       "      <td>489434</td>\n",
       "      <td>85048</td>\n",
       "      <td>15CM CHRISTMAS GLASS BALL 20 LIGHTS</td>\n",
       "      <td>12</td>\n",
       "      <td>2009-12-01 07:45:00</td>\n",
       "      <td>6.95</td>\n",
       "      <td>13085.0</td>\n",
       "      <td>United Kingdom</td>\n",
       "      <td>83.4</td>\n",
       "    </tr>\n",
       "    <tr>\n",
       "      <th>1</th>\n",
       "      <td>489434</td>\n",
       "      <td>79323P</td>\n",
       "      <td>PINK CHERRY LIGHTS</td>\n",
       "      <td>12</td>\n",
       "      <td>2009-12-01 07:45:00</td>\n",
       "      <td>6.75</td>\n",
       "      <td>13085.0</td>\n",
       "      <td>United Kingdom</td>\n",
       "      <td>81.0</td>\n",
       "    </tr>\n",
       "    <tr>\n",
       "      <th>2</th>\n",
       "      <td>489434</td>\n",
       "      <td>79323W</td>\n",
       "      <td>WHITE CHERRY LIGHTS</td>\n",
       "      <td>12</td>\n",
       "      <td>2009-12-01 07:45:00</td>\n",
       "      <td>6.75</td>\n",
       "      <td>13085.0</td>\n",
       "      <td>United Kingdom</td>\n",
       "      <td>81.0</td>\n",
       "    </tr>\n",
       "    <tr>\n",
       "      <th>3</th>\n",
       "      <td>489434</td>\n",
       "      <td>22041</td>\n",
       "      <td>RECORD FRAME 7\" SINGLE SIZE</td>\n",
       "      <td>48</td>\n",
       "      <td>2009-12-01 07:45:00</td>\n",
       "      <td>2.10</td>\n",
       "      <td>13085.0</td>\n",
       "      <td>United Kingdom</td>\n",
       "      <td>100.8</td>\n",
       "    </tr>\n",
       "    <tr>\n",
       "      <th>4</th>\n",
       "      <td>489434</td>\n",
       "      <td>21232</td>\n",
       "      <td>STRAWBERRY CERAMIC TRINKET BOX</td>\n",
       "      <td>24</td>\n",
       "      <td>2009-12-01 07:45:00</td>\n",
       "      <td>1.25</td>\n",
       "      <td>13085.0</td>\n",
       "      <td>United Kingdom</td>\n",
       "      <td>30.0</td>\n",
       "    </tr>\n",
       "  </tbody>\n",
       "</table>\n",
       "</div>"
      ],
      "text/plain": [
       "  invoice_id item_id                          description  quantity  \\\n",
       "0     489434   85048  15CM CHRISTMAS GLASS BALL 20 LIGHTS        12   \n",
       "1     489434  79323P                   PINK CHERRY LIGHTS        12   \n",
       "2     489434  79323W                  WHITE CHERRY LIGHTS        12   \n",
       "3     489434   22041         RECORD FRAME 7\" SINGLE SIZE         48   \n",
       "4     489434   21232       STRAWBERRY CERAMIC TRINKET BOX        24   \n",
       "\n",
       "                 date  price  customer_id         country  sales  \n",
       "0 2009-12-01 07:45:00   6.95      13085.0  United Kingdom   83.4  \n",
       "1 2009-12-01 07:45:00   6.75      13085.0  United Kingdom   81.0  \n",
       "2 2009-12-01 07:45:00   6.75      13085.0  United Kingdom   81.0  \n",
       "3 2009-12-01 07:45:00   2.10      13085.0  United Kingdom  100.8  \n",
       "4 2009-12-01 07:45:00   1.25      13085.0  United Kingdom   30.0  "
      ]
     },
     "execution_count": 20,
     "metadata": {},
     "output_type": "execute_result"
    }
   ],
   "source": [
    "df.head()"
   ]
  },
  {
   "cell_type": "code",
   "execution_count": 21,
   "id": "327e7fc8",
   "metadata": {},
   "outputs": [
    {
     "data": {
      "text/plain": [
       "0.00   -53594.36\n",
       "0.25        3.75\n",
       "0.50        9.95\n",
       "0.75       17.70\n",
       "1.00    25111.09\n",
       "Name: sales, dtype: float64"
      ]
     },
     "execution_count": 21,
     "metadata": {},
     "output_type": "execute_result"
    }
   ],
   "source": [
    "# global distribution of the time series\n",
    "# negative values are probably refunds\n",
    "df.sales.quantile([0, 0.25, 0.5, 0.75, 1])"
   ]
  },
  {
   "cell_type": "code",
   "execution_count": 25,
   "id": "5cee36d8",
   "metadata": {},
   "outputs": [],
   "source": [
    "#df.boxplot('sales')"
   ]
  },
  {
   "cell_type": "code",
   "execution_count": 26,
   "id": "e40cb74e",
   "metadata": {},
   "outputs": [
    {
     "data": {
      "text/html": [
       "<div>\n",
       "<style scoped>\n",
       "    .dataframe tbody tr th:only-of-type {\n",
       "        vertical-align: middle;\n",
       "    }\n",
       "\n",
       "    .dataframe tbody tr th {\n",
       "        vertical-align: top;\n",
       "    }\n",
       "\n",
       "    .dataframe thead th {\n",
       "        text-align: right;\n",
       "    }\n",
       "</style>\n",
       "<table border=\"1\" class=\"dataframe\">\n",
       "  <thead>\n",
       "    <tr style=\"text-align: right;\">\n",
       "      <th></th>\n",
       "      <th>invoice_id</th>\n",
       "      <th>item_id</th>\n",
       "      <th>description</th>\n",
       "      <th>quantity</th>\n",
       "      <th>date</th>\n",
       "      <th>price</th>\n",
       "      <th>customer_id</th>\n",
       "      <th>country</th>\n",
       "      <th>sales</th>\n",
       "    </tr>\n",
       "  </thead>\n",
       "  <tbody>\n",
       "    <tr>\n",
       "      <th>178</th>\n",
       "      <td>C489449</td>\n",
       "      <td>22087</td>\n",
       "      <td>PAPER BUNTING WHITE LACE</td>\n",
       "      <td>-12</td>\n",
       "      <td>2009-12-01 10:33:00</td>\n",
       "      <td>2.95</td>\n",
       "      <td>16321.0</td>\n",
       "      <td>Australia</td>\n",
       "      <td>-35.4</td>\n",
       "    </tr>\n",
       "    <tr>\n",
       "      <th>179</th>\n",
       "      <td>C489449</td>\n",
       "      <td>85206A</td>\n",
       "      <td>CREAM FELT EASTER EGG BASKET</td>\n",
       "      <td>-6</td>\n",
       "      <td>2009-12-01 10:33:00</td>\n",
       "      <td>1.65</td>\n",
       "      <td>16321.0</td>\n",
       "      <td>Australia</td>\n",
       "      <td>-9.9</td>\n",
       "    </tr>\n",
       "    <tr>\n",
       "      <th>180</th>\n",
       "      <td>C489449</td>\n",
       "      <td>21895</td>\n",
       "      <td>POTTING SHED SOW 'N' GROW SET</td>\n",
       "      <td>-4</td>\n",
       "      <td>2009-12-01 10:33:00</td>\n",
       "      <td>4.25</td>\n",
       "      <td>16321.0</td>\n",
       "      <td>Australia</td>\n",
       "      <td>-17.0</td>\n",
       "    </tr>\n",
       "    <tr>\n",
       "      <th>181</th>\n",
       "      <td>C489449</td>\n",
       "      <td>21896</td>\n",
       "      <td>POTTING SHED TWINE</td>\n",
       "      <td>-6</td>\n",
       "      <td>2009-12-01 10:33:00</td>\n",
       "      <td>2.10</td>\n",
       "      <td>16321.0</td>\n",
       "      <td>Australia</td>\n",
       "      <td>-12.6</td>\n",
       "    </tr>\n",
       "    <tr>\n",
       "      <th>182</th>\n",
       "      <td>C489449</td>\n",
       "      <td>22083</td>\n",
       "      <td>PAPER CHAIN KIT RETRO SPOT</td>\n",
       "      <td>-12</td>\n",
       "      <td>2009-12-01 10:33:00</td>\n",
       "      <td>2.95</td>\n",
       "      <td>16321.0</td>\n",
       "      <td>Australia</td>\n",
       "      <td>-35.4</td>\n",
       "    </tr>\n",
       "  </tbody>\n",
       "</table>\n",
       "</div>"
      ],
      "text/plain": [
       "    invoice_id item_id                    description  quantity  \\\n",
       "178    C489449   22087       PAPER BUNTING WHITE LACE       -12   \n",
       "179    C489449  85206A   CREAM FELT EASTER EGG BASKET        -6   \n",
       "180    C489449   21895  POTTING SHED SOW 'N' GROW SET        -4   \n",
       "181    C489449   21896             POTTING SHED TWINE        -6   \n",
       "182    C489449   22083     PAPER CHAIN KIT RETRO SPOT       -12   \n",
       "\n",
       "                   date  price  customer_id    country  sales  \n",
       "178 2009-12-01 10:33:00   2.95      16321.0  Australia  -35.4  \n",
       "179 2009-12-01 10:33:00   1.65      16321.0  Australia   -9.9  \n",
       "180 2009-12-01 10:33:00   4.25      16321.0  Australia  -17.0  \n",
       "181 2009-12-01 10:33:00   2.10      16321.0  Australia  -12.6  \n",
       "182 2009-12-01 10:33:00   2.95      16321.0  Australia  -35.4  "
      ]
     },
     "execution_count": 26,
     "metadata": {},
     "output_type": "execute_result"
    }
   ],
   "source": [
    "# invoice_id starts with C when we have a refund.\n",
    "# Also the quantity is negative\n",
    "df.query(\"sales < 0\").head()"
   ]
  },
  {
   "cell_type": "markdown",
   "id": "f8ecad61",
   "metadata": {},
   "source": [
    "## 2.1. Demand curve "
   ]
  },
  {
   "cell_type": "code",
   "execution_count": 29,
   "id": "4ce3004e",
   "metadata": {},
   "outputs": [
    {
     "data": {
      "image/png": "[encoded data removed]",
      "text/plain": [
       "<Figure size 640x480 with 1 Axes>"
      ]
     },
     "metadata": {},
     "output_type": "display_data"
    }
   ],
   "source": [
    "(\n",
    "    df.query(\"price < 10000 & price > 0 & quantity > 0\")\n",
    "    .plot(x='quantity', y='price', \n",
    "          kind='scatter', \n",
    "          loglog=True, \n",
    "          alpha=0.1)\n",
    ")"
   ]
  },
  {
   "cell_type": "code",
   "execution_count": 30,
   "id": "8882afdb",
   "metadata": {},
   "outputs": [
    {
     "data": {
      "text/plain": [
       "(3.1622776601683795, 10, 100, 1000, 10000)"
      ]
     },
     "execution_count": 30,
     "metadata": {},
     "output_type": "execute_result"
    }
   ],
   "source": [
    "# how to read the axis labels\n",
    "10**0.5, 10**1, 10**2, 10**3, 10**4"
   ]
  },
  {
   "cell_type": "markdown",
   "id": "958bdd3d",
   "metadata": {},
   "source": [
    "## 2.2. Sales at the daily level"
   ]
  },
  {
   "cell_type": "code",
   "execution_count": 33,
   "id": "5750752d",
   "metadata": {},
   "outputs": [],
   "source": [
    "# compact method \n",
    "agg_daily_sales = df.groupby(\"date\")['sales'].sum()"
   ]
  },
  {
   "cell_type": "code",
   "execution_count": 32,
   "id": "86eef900",
   "metadata": {},
   "outputs": [
    {
     "data": {
      "text/plain": [
       "date\n",
       "2009-12-01 07:45:00     505.30\n",
       "2009-12-01 07:46:00     145.80\n",
       "2009-12-01 09:06:00     630.33\n",
       "2009-12-01 09:08:00     310.75\n",
       "2009-12-01 09:24:00    2286.24\n",
       "                        ...   \n",
       "2010-12-09 18:58:00     298.95\n",
       "2010-12-09 19:23:00     318.70\n",
       "2010-12-09 19:28:00      93.45\n",
       "2010-12-09 19:32:00     317.59\n",
       "2010-12-09 20:01:00     300.64\n",
       "Name: sales, Length: 25296, dtype: float64"
      ]
     },
     "execution_count": 32,
     "metadata": {},
     "output_type": "execute_result"
    }
   ],
   "source": [
    "# one operation by line\n",
    "agg_daily_sales = (\n",
    "    df.groupby(\"date\")   # groupby \n",
    "    ['sales']            # select a column\n",
    "    .sum()               # function to apply\n",
    ")\n",
    "agg_daily_sales"
   ]
  },
  {
   "cell_type": "code",
   "execution_count": 34,
   "id": "35391e5a",
   "metadata": {},
   "outputs": [
    {
     "data": {
      "text/plain": [
       "pandas.core.series.Series"
      ]
     },
     "execution_count": 34,
     "metadata": {},
     "output_type": "execute_result"
    }
   ],
   "source": [
    "type(agg_daily_sales)"
   ]
  },
  {
   "cell_type": "code",
   "execution_count": 35,
   "id": "85b1b092",
   "metadata": {},
   "outputs": [
    {
     "data": {
      "text/plain": [
       "<AxesSubplot:title={'center':'Total Sales - Daily Frequency'}, xlabel='date'>"
      ]
     },
     "execution_count": 35,
     "metadata": {},
     "output_type": "execute_result"
    },
    {
     "data": {
      "image/png": "[encoded data removed]",
      "text/plain": [
       "<Figure size 640x480 with 1 Axes>"
      ]
     },
     "metadata": {},
     "output_type": "display_data"
    }
   ],
   "source": [
    "agg_daily_sales.plot(title = 'Total Sales - Daily Frequency')"
   ]
  },
  {
   "cell_type": "markdown",
   "id": "db567962",
   "metadata": {},
   "source": [
    "## 2.3. Lets aggregate at the weekly level"
   ]
  },
  {
   "cell_type": "code",
   "execution_count": 38,
   "id": "cdae8c41",
   "metadata": {},
   "outputs": [
    {
     "data": {
      "text/plain": [
       "<AxesSubplot:xlabel='date'>"
      ]
     },
     "execution_count": 38,
     "metadata": {},
     "output_type": "execute_result"
    },
    {
     "data": {
      "image/png": "[encoded data removed]",
      "text/plain": [
       "<Figure size 640x480 with 1 Axes>"
      ]
     },
     "metadata": {},
     "output_type": "display_data"
    }
   ],
   "source": [
    "agg_daily_sales.resample(\"W\").sum().plot()"
   ]
  },
  {
   "cell_type": "markdown",
   "id": "f71199b1",
   "metadata": {},
   "source": [
    "## 3.1. Let's compute some statistics at the country level"
   ]
  },
  {
   "cell_type": "code",
   "execution_count": 41,
   "id": "e374fe3b",
   "metadata": {},
   "outputs": [
    {
     "data": {
      "text/html": [
       "<div>\n",
       "<style scoped>\n",
       "    .dataframe tbody tr th:only-of-type {\n",
       "        vertical-align: middle;\n",
       "    }\n",
       "\n",
       "    .dataframe tbody tr th {\n",
       "        vertical-align: top;\n",
       "    }\n",
       "\n",
       "    .dataframe thead th {\n",
       "        text-align: right;\n",
       "    }\n",
       "</style>\n",
       "<table border=\"1\" class=\"dataframe\">\n",
       "  <thead>\n",
       "    <tr style=\"text-align: right;\">\n",
       "      <th></th>\n",
       "      <th>country</th>\n",
       "      <th>std</th>\n",
       "      <th>sum</th>\n",
       "      <th>mean</th>\n",
       "      <th>median</th>\n",
       "      <th>count</th>\n",
       "    </tr>\n",
       "  </thead>\n",
       "  <tbody>\n",
       "    <tr>\n",
       "      <th>37</th>\n",
       "      <td>United Kingdom</td>\n",
       "      <td>162.761529</td>\n",
       "      <td>8194777.533</td>\n",
       "      <td>16.866819</td>\n",
       "      <td>8.5</td>\n",
       "      <td>485852</td>\n",
       "    </tr>\n",
       "    <tr>\n",
       "      <th>10</th>\n",
       "      <td>EIRE</td>\n",
       "      <td>115.264833</td>\n",
       "      <td>352242.730</td>\n",
       "      <td>36.426342</td>\n",
       "      <td>17.7</td>\n",
       "      <td>9670</td>\n",
       "    </tr>\n",
       "    <tr>\n",
       "      <th>24</th>\n",
       "      <td>Netherlands</td>\n",
       "      <td>140.792366</td>\n",
       "      <td>263863.410</td>\n",
       "      <td>95.291950</td>\n",
       "      <td>47.2</td>\n",
       "      <td>2769</td>\n",
       "    </tr>\n",
       "    <tr>\n",
       "      <th>13</th>\n",
       "      <td>Germany</td>\n",
       "      <td>35.994020</td>\n",
       "      <td>196290.351</td>\n",
       "      <td>24.146925</td>\n",
       "      <td>17.0</td>\n",
       "      <td>8129</td>\n",
       "    </tr>\n",
       "    <tr>\n",
       "      <th>12</th>\n",
       "      <td>France</td>\n",
       "      <td>77.613575</td>\n",
       "      <td>130769.900</td>\n",
       "      <td>22.655908</td>\n",
       "      <td>15.9</td>\n",
       "      <td>5772</td>\n",
       "    </tr>\n",
       "  </tbody>\n",
       "</table>\n",
       "</div>"
      ],
      "text/plain": [
       "           country         std          sum       mean  median   count\n",
       "37  United Kingdom  162.761529  8194777.533  16.866819     8.5  485852\n",
       "10            EIRE  115.264833   352242.730  36.426342    17.7    9670\n",
       "24     Netherlands  140.792366   263863.410  95.291950    47.2    2769\n",
       "13         Germany   35.994020   196290.351  24.146925    17.0    8129\n",
       "12          France   77.613575   130769.900  22.655908    15.9    5772"
      ]
     },
     "execution_count": 41,
     "metadata": {},
     "output_type": "execute_result"
    }
   ],
   "source": [
    "agg_country = (\n",
    "    df.groupby(\"country\")\n",
    "    ['sales']\n",
    "    .agg(['std', 'sum', 'mean', 'median', 'count'])\n",
    ").reset_index()\n",
    "\n",
    "\n",
    "# sort by total\n",
    "agg_country = agg_country.sort_values(\"sum\", ascending=False)\n",
    "agg_country.head()"
   ]
  },
  {
   "cell_type": "code",
   "execution_count": 42,
   "id": "c355fcc7",
   "metadata": {},
   "outputs": [
    {
     "data": {
      "text/html": [
       "<div>\n",
       "<style scoped>\n",
       "    .dataframe tbody tr th:only-of-type {\n",
       "        vertical-align: middle;\n",
       "    }\n",
       "\n",
       "    .dataframe tbody tr th {\n",
       "        vertical-align: top;\n",
       "    }\n",
       "\n",
       "    .dataframe thead th {\n",
       "        text-align: right;\n",
       "    }\n",
       "</style>\n",
       "<table border=\"1\" class=\"dataframe\">\n",
       "  <thead>\n",
       "    <tr style=\"text-align: right;\">\n",
       "      <th></th>\n",
       "      <th>country</th>\n",
       "      <th>std</th>\n",
       "      <th>sum</th>\n",
       "      <th>mean</th>\n",
       "      <th>median</th>\n",
       "      <th>count</th>\n",
       "    </tr>\n",
       "  </thead>\n",
       "  <tbody>\n",
       "    <tr>\n",
       "      <th>20</th>\n",
       "      <td>Korea</td>\n",
       "      <td>19.365294</td>\n",
       "      <td>949.82</td>\n",
       "      <td>15.076508</td>\n",
       "      <td>17.700</td>\n",
       "      <td>63</td>\n",
       "    </tr>\n",
       "    <tr>\n",
       "      <th>39</th>\n",
       "      <td>West Indies</td>\n",
       "      <td>9.122665</td>\n",
       "      <td>536.41</td>\n",
       "      <td>9.933519</td>\n",
       "      <td>7.530</td>\n",
       "      <td>54</td>\n",
       "    </tr>\n",
       "    <tr>\n",
       "      <th>5</th>\n",
       "      <td>Brazil</td>\n",
       "      <td>3.759600</td>\n",
       "      <td>268.27</td>\n",
       "      <td>4.326935</td>\n",
       "      <td>2.775</td>\n",
       "      <td>62</td>\n",
       "    </tr>\n",
       "    <tr>\n",
       "      <th>21</th>\n",
       "      <td>Lebanon</td>\n",
       "      <td>17.488026</td>\n",
       "      <td>172.03</td>\n",
       "      <td>13.233077</td>\n",
       "      <td>15.900</td>\n",
       "      <td>13</td>\n",
       "    </tr>\n",
       "    <tr>\n",
       "      <th>25</th>\n",
       "      <td>Nigeria</td>\n",
       "      <td>20.033587</td>\n",
       "      <td>-6.66</td>\n",
       "      <td>-0.208125</td>\n",
       "      <td>1.950</td>\n",
       "      <td>32</td>\n",
       "    </tr>\n",
       "  </tbody>\n",
       "</table>\n",
       "</div>"
      ],
      "text/plain": [
       "        country        std     sum       mean  median  count\n",
       "20        Korea  19.365294  949.82  15.076508  17.700     63\n",
       "39  West Indies   9.122665  536.41   9.933519   7.530     54\n",
       "5        Brazil   3.759600  268.27   4.326935   2.775     62\n",
       "21      Lebanon  17.488026  172.03  13.233077  15.900     13\n",
       "25      Nigeria  20.033587   -6.66  -0.208125   1.950     32"
      ]
     },
     "execution_count": 42,
     "metadata": {},
     "output_type": "execute_result"
    }
   ],
   "source": [
    "agg_country.tail()"
   ]
  },
  {
   "cell_type": "code",
   "execution_count": 46,
   "id": "8889e356",
   "metadata": {},
   "outputs": [
    {
     "data": {
      "text/plain": [
       "<AxesSubplot:xlabel='country'>"
      ]
     },
     "execution_count": 46,
     "metadata": {},
     "output_type": "execute_result"
    },
    {
     "data": {
      "image/png": "[encoded data removed]",
      "text/plain": [
       "<Figure size 640x480 with 1 Axes>"
      ]
     },
     "metadata": {},
     "output_type": "display_data"
    }
   ],
   "source": [
    "(agg_country\n",
    " .sort_values(\"mean\", ascending=False)\n",
    " .plot(x='country', y='mean', kind='bar')\n",
    ")"
   ]
  },
  {
   "cell_type": "markdown",
   "id": "5a7ab5c5",
   "metadata": {},
   "source": [
    "## 4.1. Item Level Analysis - MultiIndex example"
   ]
  },
  {
   "cell_type": "code",
   "execution_count": 47,
   "id": "21a2b0f4",
   "metadata": {},
   "outputs": [
    {
     "data": {
      "text/html": [
       "<div>\n",
       "<style scoped>\n",
       "    .dataframe tbody tr th:only-of-type {\n",
       "        vertical-align: middle;\n",
       "    }\n",
       "\n",
       "    .dataframe tbody tr th {\n",
       "        vertical-align: top;\n",
       "    }\n",
       "\n",
       "    .dataframe thead th {\n",
       "        text-align: right;\n",
       "    }\n",
       "</style>\n",
       "<table border=\"1\" class=\"dataframe\">\n",
       "  <thead>\n",
       "    <tr style=\"text-align: right;\">\n",
       "      <th></th>\n",
       "      <th>invoice_id</th>\n",
       "      <th>item_id</th>\n",
       "      <th>description</th>\n",
       "      <th>quantity</th>\n",
       "      <th>date</th>\n",
       "      <th>price</th>\n",
       "      <th>customer_id</th>\n",
       "      <th>country</th>\n",
       "      <th>sales</th>\n",
       "    </tr>\n",
       "  </thead>\n",
       "  <tbody>\n",
       "    <tr>\n",
       "      <th>0</th>\n",
       "      <td>489434</td>\n",
       "      <td>85048</td>\n",
       "      <td>15CM CHRISTMAS GLASS BALL 20 LIGHTS</td>\n",
       "      <td>12</td>\n",
       "      <td>2009-12-01 07:45:00</td>\n",
       "      <td>6.95</td>\n",
       "      <td>13085.0</td>\n",
       "      <td>United Kingdom</td>\n",
       "      <td>83.4</td>\n",
       "    </tr>\n",
       "    <tr>\n",
       "      <th>1</th>\n",
       "      <td>489434</td>\n",
       "      <td>79323P</td>\n",
       "      <td>PINK CHERRY LIGHTS</td>\n",
       "      <td>12</td>\n",
       "      <td>2009-12-01 07:45:00</td>\n",
       "      <td>6.75</td>\n",
       "      <td>13085.0</td>\n",
       "      <td>United Kingdom</td>\n",
       "      <td>81.0</td>\n",
       "    </tr>\n",
       "    <tr>\n",
       "      <th>2</th>\n",
       "      <td>489434</td>\n",
       "      <td>79323W</td>\n",
       "      <td>WHITE CHERRY LIGHTS</td>\n",
       "      <td>12</td>\n",
       "      <td>2009-12-01 07:45:00</td>\n",
       "      <td>6.75</td>\n",
       "      <td>13085.0</td>\n",
       "      <td>United Kingdom</td>\n",
       "      <td>81.0</td>\n",
       "    </tr>\n",
       "    <tr>\n",
       "      <th>3</th>\n",
       "      <td>489434</td>\n",
       "      <td>22041</td>\n",
       "      <td>RECORD FRAME 7\" SINGLE SIZE</td>\n",
       "      <td>48</td>\n",
       "      <td>2009-12-01 07:45:00</td>\n",
       "      <td>2.10</td>\n",
       "      <td>13085.0</td>\n",
       "      <td>United Kingdom</td>\n",
       "      <td>100.8</td>\n",
       "    </tr>\n",
       "    <tr>\n",
       "      <th>4</th>\n",
       "      <td>489434</td>\n",
       "      <td>21232</td>\n",
       "      <td>STRAWBERRY CERAMIC TRINKET BOX</td>\n",
       "      <td>24</td>\n",
       "      <td>2009-12-01 07:45:00</td>\n",
       "      <td>1.25</td>\n",
       "      <td>13085.0</td>\n",
       "      <td>United Kingdom</td>\n",
       "      <td>30.0</td>\n",
       "    </tr>\n",
       "  </tbody>\n",
       "</table>\n",
       "</div>"
      ],
      "text/plain": [
       "  invoice_id item_id                          description  quantity  \\\n",
       "0     489434   85048  15CM CHRISTMAS GLASS BALL 20 LIGHTS        12   \n",
       "1     489434  79323P                   PINK CHERRY LIGHTS        12   \n",
       "2     489434  79323W                  WHITE CHERRY LIGHTS        12   \n",
       "3     489434   22041         RECORD FRAME 7\" SINGLE SIZE         48   \n",
       "4     489434   21232       STRAWBERRY CERAMIC TRINKET BOX        24   \n",
       "\n",
       "                 date  price  customer_id         country  sales  \n",
       "0 2009-12-01 07:45:00   6.95      13085.0  United Kingdom   83.4  \n",
       "1 2009-12-01 07:45:00   6.75      13085.0  United Kingdom   81.0  \n",
       "2 2009-12-01 07:45:00   6.75      13085.0  United Kingdom   81.0  \n",
       "3 2009-12-01 07:45:00   2.10      13085.0  United Kingdom  100.8  \n",
       "4 2009-12-01 07:45:00   1.25      13085.0  United Kingdom   30.0  "
      ]
     },
     "execution_count": 47,
     "metadata": {},
     "output_type": "execute_result"
    }
   ],
   "source": [
    "df.head()"
   ]
  },
  {
   "cell_type": "code",
   "execution_count": 48,
   "id": "3c835e94",
   "metadata": {},
   "outputs": [
    {
     "data": {
      "text/plain": [
       "0.00   -53594.36\n",
       "0.25        3.75\n",
       "0.50        9.95\n",
       "0.75       17.70\n",
       "1.00    25111.09\n",
       "Name: sales, dtype: float64"
      ]
     },
     "execution_count": 48,
     "metadata": {},
     "output_type": "execute_result"
    }
   ],
   "source": [
    "df.sales.quantile([0, 0.25, 0.5, 0.75, 1])"
   ]
  },
  {
   "cell_type": "code",
   "execution_count": 49,
   "id": "0b202912",
   "metadata": {},
   "outputs": [
    {
     "data": {
      "text/html": [
       "<div>\n",
       "<style scoped>\n",
       "    .dataframe tbody tr th:only-of-type {\n",
       "        vertical-align: middle;\n",
       "    }\n",
       "\n",
       "    .dataframe tbody tr th {\n",
       "        vertical-align: top;\n",
       "    }\n",
       "\n",
       "    .dataframe thead tr th {\n",
       "        text-align: left;\n",
       "    }\n",
       "\n",
       "    .dataframe thead tr:last-of-type th {\n",
       "        text-align: right;\n",
       "    }\n",
       "</style>\n",
       "<table border=\"1\" class=\"dataframe\">\n",
       "  <thead>\n",
       "    <tr>\n",
       "      <th></th>\n",
       "      <th colspan=\"2\" halign=\"left\">sales</th>\n",
       "      <th colspan=\"2\" halign=\"left\">quantity</th>\n",
       "      <th colspan=\"2\" halign=\"left\">price</th>\n",
       "    </tr>\n",
       "    <tr>\n",
       "      <th></th>\n",
       "      <th>mean</th>\n",
       "      <th>median</th>\n",
       "      <th>mean</th>\n",
       "      <th>median</th>\n",
       "      <th>mean</th>\n",
       "      <th>median</th>\n",
       "    </tr>\n",
       "    <tr>\n",
       "      <th>item_id</th>\n",
       "      <th></th>\n",
       "      <th></th>\n",
       "      <th></th>\n",
       "      <th></th>\n",
       "      <th></th>\n",
       "      <th></th>\n",
       "    </tr>\n",
       "  </thead>\n",
       "  <tbody>\n",
       "    <tr>\n",
       "      <th>10002</th>\n",
       "      <td>16.680306</td>\n",
       "      <td>10.20</td>\n",
       "      <td>20.651376</td>\n",
       "      <td>12.0</td>\n",
       "      <td>0.961804</td>\n",
       "      <td>0.85</td>\n",
       "    </tr>\n",
       "    <tr>\n",
       "      <th>10080</th>\n",
       "      <td>1.457143</td>\n",
       "      <td>0.85</td>\n",
       "      <td>14.571429</td>\n",
       "      <td>1.0</td>\n",
       "      <td>0.728571</td>\n",
       "      <td>0.85</td>\n",
       "    </tr>\n",
       "    <tr>\n",
       "      <th>10109</th>\n",
       "      <td>0.840000</td>\n",
       "      <td>0.84</td>\n",
       "      <td>0.000000</td>\n",
       "      <td>0.0</td>\n",
       "      <td>0.210000</td>\n",
       "      <td>0.21</td>\n",
       "    </tr>\n",
       "    <tr>\n",
       "      <th>10120</th>\n",
       "      <td>2.025918</td>\n",
       "      <td>0.84</td>\n",
       "      <td>-174.346939</td>\n",
       "      <td>4.0</td>\n",
       "      <td>0.250612</td>\n",
       "      <td>0.21</td>\n",
       "    </tr>\n",
       "    <tr>\n",
       "      <th>10125</th>\n",
       "      <td>8.774253</td>\n",
       "      <td>3.32</td>\n",
       "      <td>9.827586</td>\n",
       "      <td>3.0</td>\n",
       "      <td>1.009195</td>\n",
       "      <td>0.85</td>\n",
       "    </tr>\n",
       "  </tbody>\n",
       "</table>\n",
       "</div>"
      ],
      "text/plain": [
       "             sales           quantity            price       \n",
       "              mean median        mean median      mean median\n",
       "item_id                                                      \n",
       "10002    16.680306  10.20   20.651376   12.0  0.961804   0.85\n",
       "10080     1.457143   0.85   14.571429    1.0  0.728571   0.85\n",
       "10109     0.840000   0.84    0.000000    0.0  0.210000   0.21\n",
       "10120     2.025918   0.84 -174.346939    4.0  0.250612   0.21\n",
       "10125     8.774253   3.32    9.827586    3.0  1.009195   0.85"
      ]
     },
     "execution_count": 49,
     "metadata": {},
     "output_type": "execute_result"
    }
   ],
   "source": [
    "agg_item = (\n",
    "    df.groupby(\"item_id\")\n",
    "    [['sales', 'quantity', 'price']]\n",
    "    .agg(['mean', 'median'])    \n",
    ")\n",
    "agg_item.head()"
   ]
  },
  {
   "cell_type": "code",
   "execution_count": 50,
   "id": "b69d2b57",
   "metadata": {},
   "outputs": [
    {
     "data": {
      "text/plain": [
       "MultiIndex([(   'sales',   'mean'),\n",
       "            (   'sales', 'median'),\n",
       "            ('quantity',   'mean'),\n",
       "            ('quantity', 'median'),\n",
       "            (   'price',   'mean'),\n",
       "            (   'price', 'median')],\n",
       "           )"
      ]
     },
     "execution_count": 50,
     "metadata": {},
     "output_type": "execute_result"
    }
   ],
   "source": [
    "agg_item.columns"
   ]
  },
  {
   "cell_type": "code",
   "execution_count": 51,
   "id": "2d6e91a1",
   "metadata": {},
   "outputs": [
    {
     "data": {
      "text/plain": [
       "['sales_mean',\n",
       " 'sales_median',\n",
       " 'quantity_mean',\n",
       " 'quantity_median',\n",
       " 'price_mean',\n",
       " 'price_median']"
      ]
     },
     "execution_count": 51,
     "metadata": {},
     "output_type": "execute_result"
    }
   ],
   "source": [
    "new_columns = [\"_\".join(cols) for cols in agg_item.columns ]\n",
    "new_columns"
   ]
  },
  {
   "cell_type": "code",
   "execution_count": 52,
   "id": "d464ba43",
   "metadata": {},
   "outputs": [],
   "source": [
    "agg_item.columns = new_columns"
   ]
  },
  {
   "cell_type": "code",
   "execution_count": 53,
   "id": "52163522",
   "metadata": {},
   "outputs": [
    {
     "data": {
      "text/html": [
       "<div>\n",
       "<style scoped>\n",
       "    .dataframe tbody tr th:only-of-type {\n",
       "        vertical-align: middle;\n",
       "    }\n",
       "\n",
       "    .dataframe tbody tr th {\n",
       "        vertical-align: top;\n",
       "    }\n",
       "\n",
       "    .dataframe thead th {\n",
       "        text-align: right;\n",
       "    }\n",
       "</style>\n",
       "<table border=\"1\" class=\"dataframe\">\n",
       "  <thead>\n",
       "    <tr style=\"text-align: right;\">\n",
       "      <th></th>\n",
       "      <th>sales_mean</th>\n",
       "      <th>sales_median</th>\n",
       "      <th>quantity_mean</th>\n",
       "      <th>quantity_median</th>\n",
       "      <th>price_mean</th>\n",
       "      <th>price_median</th>\n",
       "    </tr>\n",
       "    <tr>\n",
       "      <th>item_id</th>\n",
       "      <th></th>\n",
       "      <th></th>\n",
       "      <th></th>\n",
       "      <th></th>\n",
       "      <th></th>\n",
       "      <th></th>\n",
       "    </tr>\n",
       "  </thead>\n",
       "  <tbody>\n",
       "    <tr>\n",
       "      <th>10002</th>\n",
       "      <td>16.680306</td>\n",
       "      <td>10.20</td>\n",
       "      <td>20.651376</td>\n",
       "      <td>12.0</td>\n",
       "      <td>0.961804</td>\n",
       "      <td>0.85</td>\n",
       "    </tr>\n",
       "    <tr>\n",
       "      <th>10080</th>\n",
       "      <td>1.457143</td>\n",
       "      <td>0.85</td>\n",
       "      <td>14.571429</td>\n",
       "      <td>1.0</td>\n",
       "      <td>0.728571</td>\n",
       "      <td>0.85</td>\n",
       "    </tr>\n",
       "    <tr>\n",
       "      <th>10109</th>\n",
       "      <td>0.840000</td>\n",
       "      <td>0.84</td>\n",
       "      <td>0.000000</td>\n",
       "      <td>0.0</td>\n",
       "      <td>0.210000</td>\n",
       "      <td>0.21</td>\n",
       "    </tr>\n",
       "    <tr>\n",
       "      <th>10120</th>\n",
       "      <td>2.025918</td>\n",
       "      <td>0.84</td>\n",
       "      <td>-174.346939</td>\n",
       "      <td>4.0</td>\n",
       "      <td>0.250612</td>\n",
       "      <td>0.21</td>\n",
       "    </tr>\n",
       "    <tr>\n",
       "      <th>10125</th>\n",
       "      <td>8.774253</td>\n",
       "      <td>3.32</td>\n",
       "      <td>9.827586</td>\n",
       "      <td>3.0</td>\n",
       "      <td>1.009195</td>\n",
       "      <td>0.85</td>\n",
       "    </tr>\n",
       "  </tbody>\n",
       "</table>\n",
       "</div>"
      ],
      "text/plain": [
       "         sales_mean  sales_median  quantity_mean  quantity_median  price_mean  \\\n",
       "item_id                                                                         \n",
       "10002     16.680306         10.20      20.651376             12.0    0.961804   \n",
       "10080      1.457143          0.85      14.571429              1.0    0.728571   \n",
       "10109      0.840000          0.84       0.000000              0.0    0.210000   \n",
       "10120      2.025918          0.84    -174.346939              4.0    0.250612   \n",
       "10125      8.774253          3.32       9.827586              3.0    1.009195   \n",
       "\n",
       "         price_median  \n",
       "item_id                \n",
       "10002            0.85  \n",
       "10080            0.85  \n",
       "10109            0.21  \n",
       "10120            0.21  \n",
       "10125            0.85  "
      ]
     },
     "execution_count": 53,
     "metadata": {},
     "output_type": "execute_result"
    }
   ],
   "source": [
    "agg_item.head()"
   ]
  },
  {
   "cell_type": "markdown",
   "id": "f5a2fb5c",
   "metadata": {},
   "source": [
    "## 4.2 Distribution summary - Item Level\n",
    "\n",
    "- The 50th percentile of sales-mean is 10.7 and 4.4 for quantity mean\n",
    "- This gives an idea of the what the average item sold for and the number of sales"
   ]
  },
  {
   "cell_type": "code",
   "execution_count": 54,
   "id": "e3c9179a",
   "metadata": {},
   "outputs": [
    {
     "data": {
      "text/html": [
       "<div>\n",
       "<style scoped>\n",
       "    .dataframe tbody tr th:only-of-type {\n",
       "        vertical-align: middle;\n",
       "    }\n",
       "\n",
       "    .dataframe tbody tr th {\n",
       "        vertical-align: top;\n",
       "    }\n",
       "\n",
       "    .dataframe thead th {\n",
       "        text-align: right;\n",
       "    }\n",
       "</style>\n",
       "<table border=\"1\" class=\"dataframe\">\n",
       "  <thead>\n",
       "    <tr style=\"text-align: right;\">\n",
       "      <th></th>\n",
       "      <th>sales_mean</th>\n",
       "      <th>quantity_mean</th>\n",
       "    </tr>\n",
       "  </thead>\n",
       "  <tbody>\n",
       "    <tr>\n",
       "      <th>0.01</th>\n",
       "      <td>0.000000</td>\n",
       "      <td>-64.250909</td>\n",
       "    </tr>\n",
       "    <tr>\n",
       "      <th>0.25</th>\n",
       "      <td>5.332103</td>\n",
       "      <td>1.585997</td>\n",
       "    </tr>\n",
       "    <tr>\n",
       "      <th>0.50</th>\n",
       "      <td>10.711064</td>\n",
       "      <td>4.400000</td>\n",
       "    </tr>\n",
       "    <tr>\n",
       "      <th>0.75</th>\n",
       "      <td>17.225375</td>\n",
       "      <td>9.382270</td>\n",
       "    </tr>\n",
       "    <tr>\n",
       "      <th>0.99</th>\n",
       "      <td>85.571713</td>\n",
       "      <td>118.450000</td>\n",
       "    </tr>\n",
       "  </tbody>\n",
       "</table>\n",
       "</div>"
      ],
      "text/plain": [
       "      sales_mean  quantity_mean\n",
       "0.01    0.000000     -64.250909\n",
       "0.25    5.332103       1.585997\n",
       "0.50   10.711064       4.400000\n",
       "0.75   17.225375       9.382270\n",
       "0.99   85.571713     118.450000"
      ]
     },
     "execution_count": 54,
     "metadata": {},
     "output_type": "execute_result"
    }
   ],
   "source": [
    "# Compute quartiles for all columns\n",
    "(\n",
    "    agg_item\n",
    "    [['sales_mean', 'quantity_mean']]\n",
    "    .quantile([0.01, 0.25, 0.5, 0.75, 0.99])\n",
    ")"
   ]
  },
  {
   "cell_type": "code",
   "execution_count": 55,
   "id": "f66a00e2",
   "metadata": {},
   "outputs": [
    {
     "data": {
      "text/html": [
       "<div>\n",
       "<style scoped>\n",
       "    .dataframe tbody tr th:only-of-type {\n",
       "        vertical-align: middle;\n",
       "    }\n",
       "\n",
       "    .dataframe tbody tr th {\n",
       "        vertical-align: top;\n",
       "    }\n",
       "\n",
       "    .dataframe thead th {\n",
       "        text-align: right;\n",
       "    }\n",
       "</style>\n",
       "<table border=\"1\" class=\"dataframe\">\n",
       "  <thead>\n",
       "    <tr style=\"text-align: right;\">\n",
       "      <th></th>\n",
       "      <th>sales_mean</th>\n",
       "      <th>quantity_mean</th>\n",
       "    </tr>\n",
       "  </thead>\n",
       "  <tbody>\n",
       "    <tr>\n",
       "      <th>0.0</th>\n",
       "      <td>-45517.340000</td>\n",
       "      <td>-5466.666667</td>\n",
       "    </tr>\n",
       "    <tr>\n",
       "      <th>0.1</th>\n",
       "      <td>1.250000</td>\n",
       "      <td>-1.000000</td>\n",
       "    </tr>\n",
       "    <tr>\n",
       "      <th>0.2</th>\n",
       "      <td>4.275300</td>\n",
       "      <td>1.201463</td>\n",
       "    </tr>\n",
       "    <tr>\n",
       "      <th>0.3</th>\n",
       "      <td>6.418199</td>\n",
       "      <td>2.000000</td>\n",
       "    </tr>\n",
       "    <tr>\n",
       "      <th>0.4</th>\n",
       "      <td>8.581955</td>\n",
       "      <td>3.138467</td>\n",
       "    </tr>\n",
       "    <tr>\n",
       "      <th>0.5</th>\n",
       "      <td>10.711064</td>\n",
       "      <td>4.400000</td>\n",
       "    </tr>\n",
       "    <tr>\n",
       "      <th>0.6</th>\n",
       "      <td>12.834038</td>\n",
       "      <td>6.000000</td>\n",
       "    </tr>\n",
       "    <tr>\n",
       "      <th>0.7</th>\n",
       "      <td>15.464607</td>\n",
       "      <td>7.996620</td>\n",
       "    </tr>\n",
       "    <tr>\n",
       "      <th>0.8</th>\n",
       "      <td>19.458343</td>\n",
       "      <td>11.000000</td>\n",
       "    </tr>\n",
       "    <tr>\n",
       "      <th>0.9</th>\n",
       "      <td>26.883430</td>\n",
       "      <td>17.756985</td>\n",
       "    </tr>\n",
       "    <tr>\n",
       "      <th>1.0</th>\n",
       "      <td>3884.000000</td>\n",
       "      <td>2472.000000</td>\n",
       "    </tr>\n",
       "  </tbody>\n",
       "</table>\n",
       "</div>"
      ],
      "text/plain": [
       "       sales_mean  quantity_mean\n",
       "0.0 -45517.340000   -5466.666667\n",
       "0.1      1.250000      -1.000000\n",
       "0.2      4.275300       1.201463\n",
       "0.3      6.418199       2.000000\n",
       "0.4      8.581955       3.138467\n",
       "0.5     10.711064       4.400000\n",
       "0.6     12.834038       6.000000\n",
       "0.7     15.464607       7.996620\n",
       "0.8     19.458343      11.000000\n",
       "0.9     26.883430      17.756985\n",
       "1.0   3884.000000    2472.000000"
      ]
     },
     "execution_count": 55,
     "metadata": {},
     "output_type": "execute_result"
    }
   ],
   "source": [
    "# Compute Deciles for all columns\n",
    "\n",
    "# increments of 0.1\n",
    "breaks = np.arange(0, 1.1, 0.1)\n",
    "\n",
    "(\n",
    "    agg_item\n",
    "    [['sales_mean', 'quantity_mean']]\n",
    "    .quantile(breaks)\n",
    ")"
   ]
  },
  {
   "cell_type": "code",
   "execution_count": null,
   "id": "310ef7c0",
   "metadata": {},
   "outputs": [],
   "source": [
    "df.head()"
   ]
  },
  {
   "attachments": {},
   "cell_type": "markdown",
   "id": "d06341a8",
   "metadata": {},
   "source": [
    "## 5 Cohort analysis \n",
    "\n",
    "- let's inspect the retention of the customer through a period of time \n",
    "( i already did it in an another files, but i will paste the code refactoring there, its easier and faster to understand )"
   ]
  },
  {
   "cell_type": "code",
   "execution_count": null,
   "id": "0efdcae3",
   "metadata": {},
   "outputs": [],
   "source": [
    "import os \n",
    "import pandas as pd \n",
    "import numpy as np\n",
    "\n",
    "# librairie for data viz\n",
    "import matplotilib.pyplot as plt\n",
    "import plotly.express as px\n",
    "import seaborn as sns"
   ]
  },
  {
   "cell_type": "code",
   "execution_count": null,
   "id": "7bff4223",
   "metadata": {},
   "outputs": [],
   "source": [
    "def read_data(input_file):\n",
    "    df = pd.read_excel(input_file) #lets go with an excel file , must be adapted depends of the format\n",
    "    # standardize the name of columns ( they are clear to read)\n",
    "    df.columns = ['invoice_id','item_id','description','quantity','date','price','customer_id','country']\n",
    "\n",
    "    # creating sales column\n",
    "\n",
    "    df['sales'] = df['quantity'] *df['price']\n",
    "\n",
    "    return df\n"
   ]
  },
  {
   "cell_type": "code",
   "execution_count": null,
   "id": "afcceb23",
   "metadata": {},
   "outputs": [],
   "source": [
    "def preprocess(input_file):\n",
    "    df = read_data(input_file)\n",
    "    #remove null value  customers\n",
    "    df = df[~df.customer_id.isnull()]\n",
    "\n",
    "    # convert the date year~month format\n",
    "    df['ym']= df.date.dt.to_period('M')\n",
    "\n",
    "    # Create index column and merge with the df\n",
    "\n",
    "    ym_unique = df.ym.unique()\n",
    "    unique_months = pd.Dataframe({ \n",
    "        \"ym\":ym_unique,\n",
    "        \"index\": np.arange(ym_unique.shape[0])\n",
    "    })\n",
    "\n",
    "    unique_months.head()\n",
    "\n",
    "    #merge ym and ymindex\n",
    "\n",
    "    df = pd.merge(df,unique_months, how='inner',on='ym')\n",
    "\n",
    "    # assings a cohort id to each user based on the month they joined\n",
    "\n",
    "    df[\"cohort_id\"] = df.groupby(\"customer_id\")[\"index\"].transform(\"min\")\n",
    "\n",
    "    #Create reverse mapping \n",
    "    index_mapping = {row.index:row.ym for row in unique_months.intertuples()}\n",
    "\n",
    "    #apply mapping to cohort id ( the id when customer joined)\n",
    "    df['cohort_ym']= df.cohort_id.map(index_mapping)\n",
    "\n",
    "    #diff between current index and cohort id\n",
    "    df['cohort_index'] = df['index'] - df['cohort_id']\n",
    "\n",
    "    return df, index_mapping"
   ]
  },
  {
   "cell_type": "code",
   "execution_count": null,
   "id": "aa7add0f",
   "metadata": {},
   "outputs": [],
   "source": [
    "def compute_retention_rate(df, index_mapping):\n",
    "    #give dataframe for the cohort analysis\n",
    "\n",
    "    #groupby cohort id and index and count unique observations per customer\n",
    "\n",
    "    agg_cohort = (\n",
    "        df.groupby(['cohort_id','cohort_index'])\n",
    "        ['customer_id']\n",
    "        .nuinique()\n",
    "        .reset_index()\n",
    "        .rename(columns={\"customer_id\":\"nbr_customers\"})\n",
    "    )\n",
    "\n",
    "    #convert to pivot table\n",
    "    agg_cohort = agg_cohort.pivot_table(\n",
    "        index='cohort_id', columns='cohort_index', values='nbr_customers'\n",
    "    )\n",
    "\n",
    "    # set yearmonth index\n",
    "    agg_cohort.index = agg_cohort.index.map(index_mapping)\n",
    "\n",
    "    # vector initial cohort size\n",
    "\n",
    "    cohort_size = agg_cohort.iloc[:,0]\n",
    "\n",
    "    df_result = agg_cohort.divide(cohort_size,axis = 0)\n",
    "\n",
    "    return df_result"
   ]
  },
  {
   "cell_type": "code",
   "execution_count": null,
   "id": "d744006e",
   "metadata": {},
   "outputs": [],
   "source": [
    "def plot_retention_rate(df_result):\n",
    "    plt.figure(figsize=(20,10))\n",
    "\n",
    "    plt.title(\"Retention rate par moi \", fontsize= 20)\n",
    "\n",
    "    sns.heatmap(df_result, annot=True, fmt=\".0%\", cmap='Blues', vmin= 0.0, vmax=0.6)\n",
    "    plt.xlabel('Cohort Index')\n",
    "    plt.ylabel(' Cohort month')\n",
    "    plt.yticks(rotation='360')\n",
    "    plt.show()"
   ]
  },
  {
   "cell_type": "code",
   "execution_count": null,
   "id": "bb71f4f2",
   "metadata": {},
   "outputs": [],
   "source": [
    "# application\n",
    "df = preprocess (\"Online_Retail.xlsx\")\n",
    "df.head()\n"
   ]
  },
  {
   "cell_type": "code",
   "execution_count": null,
   "id": "de30f138",
   "metadata": {},
   "outputs": [],
   "source": [
    "df_results = compute_retention_rate(df)\n",
    "df_results"
   ]
  },
  {
   "cell_type": "code",
   "execution_count": null,
   "id": "d4d23961",
   "metadata": {},
   "outputs": [],
   "source": [
    "plot_retention_rate(df_results)"
   ]
  }
 ],
 "metadata": {
  "kernelspec": {
   "display_name": "Python [conda env:tabular]",
   "language": "python",
   "name": "conda-env-tabular-py"
  },
  "language_info": {
   "codemirror_mode": {
    "name": "ipython",
    "version": 3
   },
   "file_extension": ".py",
   "mimetype": "text/x-python",
   "name": "python",
   "nbconvert_exporter": "python",
   "pygments_lexer": "ipython3",
   "version": "3.9.16"
  }
 },
 "nbformat": 4,
 "nbformat_minor": 5
}
