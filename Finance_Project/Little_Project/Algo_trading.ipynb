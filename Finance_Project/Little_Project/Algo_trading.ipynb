{
 "cells": [
  {
   "cell_type": "markdown",
   "id": "7a50fa71-9682-4e34-b540-831b932eb5f3",
   "metadata": {},
   "source": [
    "# Algo Trading\n",
    "plotting the evolotion of one stock and the timing ( buy-sell)"
   ]
  },
  {
   "cell_type": "code",
   "execution_count": 3,
   "id": "e45e344d-0642-4d60-9191-716e49432b28",
   "metadata": {},
   "outputs": [
    {
     "name": "stdout",
     "output_type": "stream",
     "text": [
      "                                 Open        High         Low       Close  \\\n",
      "Date                                                                        \n",
      "2022-03-04 00:00:00-05:00  163.499575  164.553190  161.123966  162.187515   \n",
      "2022-03-07 00:00:00-05:00  162.376372  164.026380  158.082376  158.340820   \n",
      "2022-03-08 00:00:00-05:00  157.863700  161.899251  154.861880  156.492004   \n",
      "2022-03-09 00:00:00-05:00  160.507692  162.426078  158.450163  161.968842   \n",
      "2022-03-10 00:00:00-05:00  159.235398  159.424257  155.040807  157.565521   \n",
      "\n",
      "                              Volume  Dividends  Stock Splits  \n",
      "Date                                                           \n",
      "2022-03-04 00:00:00-05:00   83737200        0.0           0.0  \n",
      "2022-03-07 00:00:00-05:00   96418800        0.0           0.0  \n",
      "2022-03-08 00:00:00-05:00  131148300        0.0           0.0  \n",
      "2022-03-09 00:00:00-05:00   91454900        0.0           0.0  \n",
      "2022-03-10 00:00:00-05:00  105342000        0.0           0.0  \n"
     ]
    }
   ],
   "source": [
    "import pandas as pd\n",
    "import plotly.graph_objs as go\n",
    "from plotly.subplots import make_subplots\n",
    "import plotly.express as px\n",
    "import yfinance as yf\n",
    "\n",
    "# Get Apple's stock data from yahoo finance\n",
    "stock = yf.Ticker(\"AAPL\")\n",
    "data = stock.history(period=\"1y\")\n",
    "print(data.head())"
   ]
  },
  {
   "cell_type": "code",
   "execution_count": 2,
   "id": "a9a3798a-dc07-4b38-b2db-c423283c08b7",
   "metadata": {},
   "outputs": [
    {
     "name": "stdout",
     "output_type": "stream",
     "text": [
      "Collecting yfinance\n",
      "  Downloading yfinance-0.2.12-py2.py3-none-any.whl (59 kB)\n",
      "     ---------------------------------------- 59.2/59.2 kB 3.1 MB/s eta 0:00:00\n",
      "Requirement already satisfied: requests>=2.26 in c:\\users\\yskon\\anaconda3\\lib\\site-packages (from yfinance) (2.28.1)\n",
      "Requirement already satisfied: numpy>=1.16.5 in c:\\users\\yskon\\anaconda3\\lib\\site-packages (from yfinance) (1.21.5)\n",
      "Collecting multitasking>=0.0.7\n",
      "  Using cached multitasking-0.0.11-py3-none-any.whl (8.5 kB)\n",
      "Requirement already satisfied: pandas>=1.3.0 in c:\\users\\yskon\\anaconda3\\lib\\site-packages (from yfinance) (1.4.4)\n",
      "Requirement already satisfied: lxml>=4.9.1 in c:\\users\\yskon\\anaconda3\\lib\\site-packages (from yfinance) (4.9.1)\n",
      "Collecting frozendict>=2.3.4\n",
      "  Downloading frozendict-2.3.5-cp39-cp39-win_amd64.whl (35 kB)\n",
      "Requirement already satisfied: cryptography>=3.3.2 in c:\\users\\yskon\\anaconda3\\lib\\site-packages (from yfinance) (37.0.1)\n",
      "Requirement already satisfied: beautifulsoup4>=4.11.1 in c:\\users\\yskon\\anaconda3\\lib\\site-packages (from yfinance) (4.11.1)\n",
      "Collecting html5lib>=1.1\n",
      "  Downloading html5lib-1.1-py2.py3-none-any.whl (112 kB)\n",
      "     -------------------------------------- 112.2/112.2 kB 6.8 MB/s eta 0:00:00\n",
      "Requirement already satisfied: appdirs>=1.4.4 in c:\\users\\yskon\\anaconda3\\lib\\site-packages (from yfinance) (1.4.4)\n",
      "Collecting pytz>=2022.5\n",
      "  Downloading pytz-2022.7.1-py2.py3-none-any.whl (499 kB)\n",
      "     ------------------------------------- 499.4/499.4 kB 32.6 MB/s eta 0:00:00\n",
      "Requirement already satisfied: soupsieve>1.2 in c:\\users\\yskon\\anaconda3\\lib\\site-packages (from beautifulsoup4>=4.11.1->yfinance) (2.3.1)\n",
      "Requirement already satisfied: cffi>=1.12 in c:\\users\\yskon\\anaconda3\\lib\\site-packages (from cryptography>=3.3.2->yfinance) (1.15.1)\n",
      "Requirement already satisfied: six>=1.9 in c:\\users\\yskon\\anaconda3\\lib\\site-packages (from html5lib>=1.1->yfinance) (1.16.0)\n",
      "Requirement already satisfied: webencodings in c:\\users\\yskon\\anaconda3\\lib\\site-packages (from html5lib>=1.1->yfinance) (0.5.1)\n",
      "Requirement already satisfied: python-dateutil>=2.8.1 in c:\\users\\yskon\\anaconda3\\lib\\site-packages (from pandas>=1.3.0->yfinance) (2.8.2)\n",
      "Requirement already satisfied: certifi>=2017.4.17 in c:\\users\\yskon\\anaconda3\\lib\\site-packages (from requests>=2.26->yfinance) (2022.9.14)\n",
      "Requirement already satisfied: urllib3<1.27,>=1.21.1 in c:\\users\\yskon\\anaconda3\\lib\\site-packages (from requests>=2.26->yfinance) (1.26.11)\n",
      "Requirement already satisfied: idna<4,>=2.5 in c:\\users\\yskon\\anaconda3\\lib\\site-packages (from requests>=2.26->yfinance) (3.3)\n",
      "Requirement already satisfied: charset-normalizer<3,>=2 in c:\\users\\yskon\\anaconda3\\lib\\site-packages (from requests>=2.26->yfinance) (2.0.4)\n",
      "Requirement already satisfied: pycparser in c:\\users\\yskon\\anaconda3\\lib\\site-packages (from cffi>=1.12->cryptography>=3.3.2->yfinance) (2.21)\n",
      "Installing collected packages: pytz, multitasking, html5lib, frozendict, yfinance\n",
      "  Attempting uninstall: pytz\n",
      "    Found existing installation: pytz 2022.1\n",
      "    Uninstalling pytz-2022.1:\n",
      "      Successfully uninstalled pytz-2022.1\n",
      "Successfully installed frozendict-2.3.5 html5lib-1.1 multitasking-0.0.11 pytz-2022.7.1 yfinance-0.2.12\n",
      "Note: you may need to restart the kernel to use updated packages.\n"
     ]
    },
    {
     "name": "stderr",
     "output_type": "stream",
     "text": [
      "ERROR: pip's dependency resolver does not currently take into account all the packages that are installed. This behaviour is the source of the following dependency conflicts.\n",
      "conda-repo-cli 1.0.20 requires clyent==1.2.1, but you have clyent 1.2.2 which is incompatible.\n",
      "conda-repo-cli 1.0.20 requires nbformat==5.4.0, but you have nbformat 5.5.0 which is incompatible.\n"
     ]
    }
   ],
   "source": []
  },
  {
   "cell_type": "code",
   "execution_count": null,
   "id": "158a5c7a-71dd-48d3-8e44-849a2a7f1f4b",
   "metadata": {},
   "outputs": [],
   "source": []
  }
 ],
 "metadata": {
  "kernelspec": {
   "display_name": "Python 3 (ipykernel)",
   "language": "python",
   "name": "python3"
  },
  "language_info": {
   "codemirror_mode": {
    "name": "ipython",
    "version": 3
   },
   "file_extension": ".py",
   "mimetype": "text/x-python",
   "name": "python",
   "nbconvert_exporter": "python",
   "pygments_lexer": "ipython3",
   "version": "3.9.13"
  }
 },
 "nbformat": 4,
 "nbformat_minor": 5
}
