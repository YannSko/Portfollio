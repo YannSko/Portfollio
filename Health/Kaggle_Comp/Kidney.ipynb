{
 "cells": [
  {
   "cell_type": "code",
   "execution_count": null,
   "metadata": {},
   "outputs": [],
   "source": []
  },
  {
   "attachments": {},
   "cell_type": "markdown",
   "metadata": {},
   "source": [
    "# Kidney Stone Prediction Analysis\n",
    "\n",
    "source from : https://www.kaggle.com/competitions/playground-series-s3e12/data"
   ]
  }
 ],
 "metadata": {
  "language_info": {
   "name": "python"
  },
  "orig_nbformat": 4
 },
 "nbformat": 4,
 "nbformat_minor": 2
}
