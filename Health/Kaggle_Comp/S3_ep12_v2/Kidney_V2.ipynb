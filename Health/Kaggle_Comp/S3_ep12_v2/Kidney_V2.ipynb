{
 "cells": [
  {
   "attachments": {},
   "cell_type": "markdown",
   "metadata": {},
   "source": [
    "# Kidney Stone Prediction v2\n",
    "\n",
    "2nde Analysis, prediction , try to improve the previous analysis- prediction , adding some step in my ProjectBuildings "
   ]
  }
 ],
 "metadata": {
  "language_info": {
   "name": "python"
  },
  "orig_nbformat": 4
 },
 "nbformat": 4,
 "nbformat_minor": 2
}
