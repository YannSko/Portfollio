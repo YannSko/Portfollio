{
 "cells": [
  {
   "attachments": {},
   "cell_type": "markdown",
   "metadata": {},
   "source": [
    "# Oil Price Forecasting"
   ]
  },
  {
   "attachments": {},
   "cell_type": "markdown",
   "metadata": {},
   "source": [
    "### source Kaggle : https://www.kaggle.com/datasets/jahaidulislam/the-fluctuations-of-crude-oil-price-from-1974-2022"
   ]
  },
  {
   "attachments": {},
   "cell_type": "markdown",
   "metadata": {},
   "source": [
    "Goal : Analyzing the trends and fluctuations in crude oil prices over time + Developing predictive models to forecast crude oil prices."
   ]
  },
  {
   "attachments": {},
   "cell_type": "markdown",
   "metadata": {},
   "source": [
    " ###  Analyzing Trend And fluctuations "
   ]
  },
  {
   "cell_type": "code",
   "execution_count": 23,
   "metadata": {},
   "outputs": [],
   "source": [
    "import pandas as pd\n",
    "import numpy as np\n",
    "import matplotlib.pyplot as plt\n",
    "\n",
    "\n",
    "\n",
    "df = pd.read_csv('Crud_Oil.csv', parse_dates=['Year'])\n"
   ]
  },
  {
   "cell_type": "code",
   "execution_count": 24,
   "metadata": {},
   "outputs": [
    {
     "data": {
      "text/html": [
       "<div>\n",
       "<style scoped>\n",
       "    .dataframe tbody tr th:only-of-type {\n",
       "        vertical-align: middle;\n",
       "    }\n",
       "\n",
       "    .dataframe tbody tr th {\n",
       "        vertical-align: top;\n",
       "    }\n",
       "\n",
       "    .dataframe thead th {\n",
       "        text-align: right;\n",
       "    }\n",
       "</style>\n",
       "<table border=\"1\" class=\"dataframe\">\n",
       "  <thead>\n",
       "    <tr style=\"text-align: right;\">\n",
       "      <th></th>\n",
       "      <th>Year</th>\n",
       "      <th>Jan</th>\n",
       "      <th>Feb</th>\n",
       "      <th>Mar</th>\n",
       "      <th>Apr</th>\n",
       "      <th>May</th>\n",
       "      <th>Jun</th>\n",
       "      <th>Jul</th>\n",
       "      <th>Aug</th>\n",
       "      <th>Sep</th>\n",
       "      <th>Oct</th>\n",
       "      <th>Nov</th>\n",
       "      <th>Dec</th>\n",
       "    </tr>\n",
       "  </thead>\n",
       "  <tbody>\n",
       "    <tr>\n",
       "      <th>0</th>\n",
       "      <td>��1974</td>\n",
       "      <td>6.95</td>\n",
       "      <td>6.87</td>\n",
       "      <td>6.77</td>\n",
       "      <td>6.77</td>\n",
       "      <td>6.87</td>\n",
       "      <td>6.85</td>\n",
       "      <td>6.80</td>\n",
       "      <td>6.71</td>\n",
       "      <td>6.70</td>\n",
       "      <td>6.97</td>\n",
       "      <td>6.97</td>\n",
       "      <td>7.09</td>\n",
       "    </tr>\n",
       "    <tr>\n",
       "      <th>1</th>\n",
       "      <td>��1975</td>\n",
       "      <td>7.61</td>\n",
       "      <td>7.47</td>\n",
       "      <td>7.57</td>\n",
       "      <td>7.55</td>\n",
       "      <td>7.52</td>\n",
       "      <td>7.49</td>\n",
       "      <td>7.75</td>\n",
       "      <td>7.73</td>\n",
       "      <td>7.75</td>\n",
       "      <td>7.83</td>\n",
       "      <td>7.80</td>\n",
       "      <td>7.93</td>\n",
       "    </tr>\n",
       "    <tr>\n",
       "      <th>2</th>\n",
       "      <td>��1976</td>\n",
       "      <td>8.63</td>\n",
       "      <td>7.91</td>\n",
       "      <td>7.78</td>\n",
       "      <td>7.86</td>\n",
       "      <td>7.89</td>\n",
       "      <td>8.00</td>\n",
       "      <td>8.04</td>\n",
       "      <td>8.03</td>\n",
       "      <td>8.39</td>\n",
       "      <td>8.46</td>\n",
       "      <td>8.61</td>\n",
       "      <td>8.62</td>\n",
       "    </tr>\n",
       "    <tr>\n",
       "      <th>3</th>\n",
       "      <td>��1977</td>\n",
       "      <td>8.50</td>\n",
       "      <td>8.56</td>\n",
       "      <td>8.45</td>\n",
       "      <td>8.41</td>\n",
       "      <td>8.49</td>\n",
       "      <td>8.44</td>\n",
       "      <td>8.47</td>\n",
       "      <td>8.45</td>\n",
       "      <td>8.43</td>\n",
       "      <td>8.72</td>\n",
       "      <td>8.69</td>\n",
       "      <td>8.81</td>\n",
       "    </tr>\n",
       "    <tr>\n",
       "      <th>4</th>\n",
       "      <td>��1978</td>\n",
       "      <td>8.71</td>\n",
       "      <td>8.86</td>\n",
       "      <td>8.80</td>\n",
       "      <td>8.82</td>\n",
       "      <td>8.81</td>\n",
       "      <td>9.05</td>\n",
       "      <td>8.96</td>\n",
       "      <td>9.05</td>\n",
       "      <td>9.15</td>\n",
       "      <td>9.17</td>\n",
       "      <td>9.20</td>\n",
       "      <td>9.47</td>\n",
       "    </tr>\n",
       "  </tbody>\n",
       "</table>\n",
       "</div>"
      ],
      "text/plain": [
       "     Year   Jan   Feb   Mar   Apr   May   Jun   Jul   Aug   Sep   Oct   Nov  \\\n",
       "0  ��1974  6.95  6.87  6.77  6.77  6.87  6.85  6.80  6.71  6.70  6.97  6.97   \n",
       "1  ��1975  7.61  7.47  7.57  7.55  7.52  7.49  7.75  7.73  7.75  7.83  7.80   \n",
       "2  ��1976  8.63  7.91  7.78  7.86  7.89  8.00  8.04  8.03  8.39  8.46  8.61   \n",
       "3  ��1977  8.50  8.56  8.45  8.41  8.49  8.44  8.47  8.45  8.43  8.72  8.69   \n",
       "4  ��1978  8.71  8.86  8.80  8.82  8.81  9.05  8.96  9.05  9.15  9.17  9.20   \n",
       "\n",
       "    Dec  \n",
       "0  7.09  \n",
       "1  7.93  \n",
       "2  8.62  \n",
       "3  8.81  \n",
       "4  9.47  "
      ]
     },
     "execution_count": 24,
     "metadata": {},
     "output_type": "execute_result"
    }
   ],
   "source": [
    "df.head()\n"
   ]
  },
  {
   "cell_type": "code",
   "execution_count": 25,
   "metadata": {},
   "outputs": [],
   "source": [
    "# cleaning the year column and set it as index \n",
    "\n",
    "df['Year'] = df['Year'].str.replace('�', '')\n",
    "\n",
    "\n",
    "df['Year'] = pd.to_datetime(df['Year'], format='%Y-%m-%d')\n",
    "\n",
    "\n",
    "df.set_index('Year', inplace=True)\n"
   ]
  },
  {
   "cell_type": "code",
   "execution_count": 26,
   "metadata": {},
   "outputs": [
    {
     "data": {
      "text/html": [
       "<div>\n",
       "<style scoped>\n",
       "    .dataframe tbody tr th:only-of-type {\n",
       "        vertical-align: middle;\n",
       "    }\n",
       "\n",
       "    .dataframe tbody tr th {\n",
       "        vertical-align: top;\n",
       "    }\n",
       "\n",
       "    .dataframe thead th {\n",
       "        text-align: right;\n",
       "    }\n",
       "</style>\n",
       "<table border=\"1\" class=\"dataframe\">\n",
       "  <thead>\n",
       "    <tr style=\"text-align: right;\">\n",
       "      <th></th>\n",
       "      <th>Jan</th>\n",
       "      <th>Feb</th>\n",
       "      <th>Mar</th>\n",
       "      <th>Apr</th>\n",
       "      <th>May</th>\n",
       "      <th>Jun</th>\n",
       "      <th>Jul</th>\n",
       "      <th>Aug</th>\n",
       "      <th>Sep</th>\n",
       "      <th>Oct</th>\n",
       "      <th>Nov</th>\n",
       "      <th>Dec</th>\n",
       "    </tr>\n",
       "    <tr>\n",
       "      <th>Year</th>\n",
       "      <th></th>\n",
       "      <th></th>\n",
       "      <th></th>\n",
       "      <th></th>\n",
       "      <th></th>\n",
       "      <th></th>\n",
       "      <th></th>\n",
       "      <th></th>\n",
       "      <th></th>\n",
       "      <th></th>\n",
       "      <th></th>\n",
       "      <th></th>\n",
       "    </tr>\n",
       "  </thead>\n",
       "  <tbody>\n",
       "    <tr>\n",
       "      <th>1974-01-01</th>\n",
       "      <td>6.95</td>\n",
       "      <td>6.87</td>\n",
       "      <td>6.77</td>\n",
       "      <td>6.77</td>\n",
       "      <td>6.87</td>\n",
       "      <td>6.85</td>\n",
       "      <td>6.80</td>\n",
       "      <td>6.71</td>\n",
       "      <td>6.70</td>\n",
       "      <td>6.97</td>\n",
       "      <td>6.97</td>\n",
       "      <td>7.09</td>\n",
       "    </tr>\n",
       "    <tr>\n",
       "      <th>1975-01-01</th>\n",
       "      <td>7.61</td>\n",
       "      <td>7.47</td>\n",
       "      <td>7.57</td>\n",
       "      <td>7.55</td>\n",
       "      <td>7.52</td>\n",
       "      <td>7.49</td>\n",
       "      <td>7.75</td>\n",
       "      <td>7.73</td>\n",
       "      <td>7.75</td>\n",
       "      <td>7.83</td>\n",
       "      <td>7.80</td>\n",
       "      <td>7.93</td>\n",
       "    </tr>\n",
       "    <tr>\n",
       "      <th>1976-01-01</th>\n",
       "      <td>8.63</td>\n",
       "      <td>7.91</td>\n",
       "      <td>7.78</td>\n",
       "      <td>7.86</td>\n",
       "      <td>7.89</td>\n",
       "      <td>8.00</td>\n",
       "      <td>8.04</td>\n",
       "      <td>8.03</td>\n",
       "      <td>8.39</td>\n",
       "      <td>8.46</td>\n",
       "      <td>8.61</td>\n",
       "      <td>8.62</td>\n",
       "    </tr>\n",
       "    <tr>\n",
       "      <th>1977-01-01</th>\n",
       "      <td>8.50</td>\n",
       "      <td>8.56</td>\n",
       "      <td>8.45</td>\n",
       "      <td>8.41</td>\n",
       "      <td>8.49</td>\n",
       "      <td>8.44</td>\n",
       "      <td>8.47</td>\n",
       "      <td>8.45</td>\n",
       "      <td>8.43</td>\n",
       "      <td>8.72</td>\n",
       "      <td>8.69</td>\n",
       "      <td>8.81</td>\n",
       "    </tr>\n",
       "    <tr>\n",
       "      <th>1978-01-01</th>\n",
       "      <td>8.71</td>\n",
       "      <td>8.86</td>\n",
       "      <td>8.80</td>\n",
       "      <td>8.82</td>\n",
       "      <td>8.81</td>\n",
       "      <td>9.05</td>\n",
       "      <td>8.96</td>\n",
       "      <td>9.05</td>\n",
       "      <td>9.15</td>\n",
       "      <td>9.17</td>\n",
       "      <td>9.20</td>\n",
       "      <td>9.47</td>\n",
       "    </tr>\n",
       "  </tbody>\n",
       "</table>\n",
       "</div>"
      ],
      "text/plain": [
       "             Jan   Feb   Mar   Apr   May   Jun   Jul   Aug   Sep   Oct   Nov  \\\n",
       "Year                                                                           \n",
       "1974-01-01  6.95  6.87  6.77  6.77  6.87  6.85  6.80  6.71  6.70  6.97  6.97   \n",
       "1975-01-01  7.61  7.47  7.57  7.55  7.52  7.49  7.75  7.73  7.75  7.83  7.80   \n",
       "1976-01-01  8.63  7.91  7.78  7.86  7.89  8.00  8.04  8.03  8.39  8.46  8.61   \n",
       "1977-01-01  8.50  8.56  8.45  8.41  8.49  8.44  8.47  8.45  8.43  8.72  8.69   \n",
       "1978-01-01  8.71  8.86  8.80  8.82  8.81  9.05  8.96  9.05  9.15  9.17  9.20   \n",
       "\n",
       "             Dec  \n",
       "Year              \n",
       "1974-01-01  7.09  \n",
       "1975-01-01  7.93  \n",
       "1976-01-01  8.62  \n",
       "1977-01-01  8.81  \n",
       "1978-01-01  9.47  "
      ]
     },
     "execution_count": 26,
     "metadata": {},
     "output_type": "execute_result"
    }
   ],
   "source": [
    "df.head()"
   ]
  },
  {
   "cell_type": "code",
   "execution_count": 27,
   "metadata": {},
   "outputs": [
    {
     "data": {
      "text/plain": [
       "Jan    0\n",
       "Feb    0\n",
       "Mar    0\n",
       "Apr    0\n",
       "May    0\n",
       "Jun    0\n",
       "Jul    0\n",
       "Aug    0\n",
       "Sep    0\n",
       "Oct    0\n",
       "Nov    0\n",
       "Dec    1\n",
       "dtype: int64"
      ]
     },
     "execution_count": 27,
     "metadata": {},
     "output_type": "execute_result"
    }
   ],
   "source": [
    "df.isnull().sum()\n",
    "\n"
   ]
  },
  {
   "attachments": {},
   "cell_type": "markdown",
   "metadata": {},
   "source": [
    "finding the null value"
   ]
  },
  {
   "cell_type": "code",
   "execution_count": 28,
   "metadata": {},
   "outputs": [
    {
     "name": "stdout",
     "output_type": "stream",
     "text": [
      "              Jan    Feb     Mar     Apr     May     Jun     Jul    Aug  \\\n",
      "Year                                                                      \n",
      "2022-01-01  80.33  89.41  107.07  103.32  108.29  113.77  100.84  93.76   \n",
      "\n",
      "              Sep    Oct    Nov  Dec  \n",
      "Year                                  \n",
      "2022-01-01  84.62  86.61  84.43  NaN  \n"
     ]
    }
   ],
   "source": [
    "\n",
    "null_rows = df[df.isnull().any(axis=1)]\n",
    "\n",
    "\n",
    "print(null_rows)\n"
   ]
  },
  {
   "cell_type": "code",
   "execution_count": 29,
   "metadata": {},
   "outputs": [
    {
     "data": {
      "text/html": [
       "<div>\n",
       "<style scoped>\n",
       "    .dataframe tbody tr th:only-of-type {\n",
       "        vertical-align: middle;\n",
       "    }\n",
       "\n",
       "    .dataframe tbody tr th {\n",
       "        vertical-align: top;\n",
       "    }\n",
       "\n",
       "    .dataframe thead th {\n",
       "        text-align: right;\n",
       "    }\n",
       "</style>\n",
       "<table border=\"1\" class=\"dataframe\">\n",
       "  <thead>\n",
       "    <tr style=\"text-align: right;\">\n",
       "      <th></th>\n",
       "      <th>Jan</th>\n",
       "      <th>Feb</th>\n",
       "      <th>Mar</th>\n",
       "      <th>Apr</th>\n",
       "      <th>May</th>\n",
       "      <th>Jun</th>\n",
       "      <th>Jul</th>\n",
       "      <th>Aug</th>\n",
       "      <th>Sep</th>\n",
       "      <th>Oct</th>\n",
       "      <th>Nov</th>\n",
       "      <th>Dec</th>\n",
       "    </tr>\n",
       "    <tr>\n",
       "      <th>Year</th>\n",
       "      <th></th>\n",
       "      <th></th>\n",
       "      <th></th>\n",
       "      <th></th>\n",
       "      <th></th>\n",
       "      <th></th>\n",
       "      <th></th>\n",
       "      <th></th>\n",
       "      <th></th>\n",
       "      <th></th>\n",
       "      <th></th>\n",
       "      <th></th>\n",
       "    </tr>\n",
       "  </thead>\n",
       "  <tbody>\n",
       "    <tr>\n",
       "      <th>2018-01-01</th>\n",
       "      <td>62.25</td>\n",
       "      <td>61.18</td>\n",
       "      <td>60.68</td>\n",
       "      <td>63.50</td>\n",
       "      <td>66.16</td>\n",
       "      <td>62.80</td>\n",
       "      <td>67.00</td>\n",
       "      <td>62.64</td>\n",
       "      <td>63.54</td>\n",
       "      <td>65.18</td>\n",
       "      <td>55.65</td>\n",
       "      <td>47.63</td>\n",
       "    </tr>\n",
       "    <tr>\n",
       "      <th>2019-01-01</th>\n",
       "      <td>48.00</td>\n",
       "      <td>52.60</td>\n",
       "      <td>57.46</td>\n",
       "      <td>63.00</td>\n",
       "      <td>59.73</td>\n",
       "      <td>54.34</td>\n",
       "      <td>56.47</td>\n",
       "      <td>53.63</td>\n",
       "      <td>55.14</td>\n",
       "      <td>53.14</td>\n",
       "      <td>54.96</td>\n",
       "      <td>58.41</td>\n",
       "    </tr>\n",
       "    <tr>\n",
       "      <th>2020-01-01</th>\n",
       "      <td>56.55</td>\n",
       "      <td>49.66</td>\n",
       "      <td>31.01</td>\n",
       "      <td>15.18</td>\n",
       "      <td>18.02</td>\n",
       "      <td>33.81</td>\n",
       "      <td>37.44</td>\n",
       "      <td>39.37</td>\n",
       "      <td>36.82</td>\n",
       "      <td>36.39</td>\n",
       "      <td>38.25</td>\n",
       "      <td>43.92</td>\n",
       "    </tr>\n",
       "    <tr>\n",
       "      <th>2021-01-01</th>\n",
       "      <td>49.47</td>\n",
       "      <td>56.44</td>\n",
       "      <td>60.43</td>\n",
       "      <td>59.87</td>\n",
       "      <td>62.80</td>\n",
       "      <td>68.58</td>\n",
       "      <td>70.12</td>\n",
       "      <td>65.68</td>\n",
       "      <td>69.09</td>\n",
       "      <td>78.51</td>\n",
       "      <td>76.45</td>\n",
       "      <td>70.56</td>\n",
       "    </tr>\n",
       "    <tr>\n",
       "      <th>2022-01-01</th>\n",
       "      <td>80.33</td>\n",
       "      <td>89.41</td>\n",
       "      <td>107.07</td>\n",
       "      <td>103.32</td>\n",
       "      <td>108.29</td>\n",
       "      <td>113.77</td>\n",
       "      <td>100.84</td>\n",
       "      <td>93.76</td>\n",
       "      <td>84.62</td>\n",
       "      <td>86.61</td>\n",
       "      <td>84.43</td>\n",
       "      <td>NaN</td>\n",
       "    </tr>\n",
       "  </tbody>\n",
       "</table>\n",
       "</div>"
      ],
      "text/plain": [
       "              Jan    Feb     Mar     Apr     May     Jun     Jul    Aug  \\\n",
       "Year                                                                      \n",
       "2018-01-01  62.25  61.18   60.68   63.50   66.16   62.80   67.00  62.64   \n",
       "2019-01-01  48.00  52.60   57.46   63.00   59.73   54.34   56.47  53.63   \n",
       "2020-01-01  56.55  49.66   31.01   15.18   18.02   33.81   37.44  39.37   \n",
       "2021-01-01  49.47  56.44   60.43   59.87   62.80   68.58   70.12  65.68   \n",
       "2022-01-01  80.33  89.41  107.07  103.32  108.29  113.77  100.84  93.76   \n",
       "\n",
       "              Sep    Oct    Nov    Dec  \n",
       "Year                                    \n",
       "2018-01-01  63.54  65.18  55.65  47.63  \n",
       "2019-01-01  55.14  53.14  54.96  58.41  \n",
       "2020-01-01  36.82  36.39  38.25  43.92  \n",
       "2021-01-01  69.09  78.51  76.45  70.56  \n",
       "2022-01-01  84.62  86.61  84.43    NaN  "
      ]
     },
     "execution_count": 29,
     "metadata": {},
     "output_type": "execute_result"
    }
   ],
   "source": [
    "df.tail()"
   ]
  },
  {
   "attachments": {},
   "cell_type": "markdown",
   "metadata": {},
   "source": [
    "its the last row of the dataset , so we can try interpolate ( average of previous and next( got no next so use for before))"
   ]
  },
  {
   "cell_type": "code",
   "execution_count": 30,
   "metadata": {},
   "outputs": [
    {
     "name": "stdout",
     "output_type": "stream",
     "text": [
      "Jan    0\n",
      "Feb    0\n",
      "Mar    0\n",
      "Apr    0\n",
      "May    0\n",
      "Jun    0\n",
      "Jul    0\n",
      "Aug    0\n",
      "Sep    0\n",
      "Oct    0\n",
      "Nov    0\n",
      "Dec    0\n",
      "dtype: int64\n"
     ]
    }
   ],
   "source": [
    "\n",
    "df.iloc[-1] = df.iloc[-1].interpolate()\n",
    "\n",
    "\n",
    "print(df.isnull().sum())"
   ]
  },
  {
   "cell_type": "code",
   "execution_count": 31,
   "metadata": {},
   "outputs": [
    {
     "data": {
      "text/html": [
       "<div>\n",
       "<style scoped>\n",
       "    .dataframe tbody tr th:only-of-type {\n",
       "        vertical-align: middle;\n",
       "    }\n",
       "\n",
       "    .dataframe tbody tr th {\n",
       "        vertical-align: top;\n",
       "    }\n",
       "\n",
       "    .dataframe thead th {\n",
       "        text-align: right;\n",
       "    }\n",
       "</style>\n",
       "<table border=\"1\" class=\"dataframe\">\n",
       "  <thead>\n",
       "    <tr style=\"text-align: right;\">\n",
       "      <th></th>\n",
       "      <th>Jan</th>\n",
       "      <th>Feb</th>\n",
       "      <th>Mar</th>\n",
       "      <th>Apr</th>\n",
       "      <th>May</th>\n",
       "      <th>Jun</th>\n",
       "      <th>Jul</th>\n",
       "      <th>Aug</th>\n",
       "      <th>Sep</th>\n",
       "      <th>Oct</th>\n",
       "      <th>Nov</th>\n",
       "      <th>Dec</th>\n",
       "    </tr>\n",
       "    <tr>\n",
       "      <th>Year</th>\n",
       "      <th></th>\n",
       "      <th></th>\n",
       "      <th></th>\n",
       "      <th></th>\n",
       "      <th></th>\n",
       "      <th></th>\n",
       "      <th></th>\n",
       "      <th></th>\n",
       "      <th></th>\n",
       "      <th></th>\n",
       "      <th></th>\n",
       "      <th></th>\n",
       "    </tr>\n",
       "  </thead>\n",
       "  <tbody>\n",
       "    <tr>\n",
       "      <th>2018-01-01</th>\n",
       "      <td>62.25</td>\n",
       "      <td>61.18</td>\n",
       "      <td>60.68</td>\n",
       "      <td>63.50</td>\n",
       "      <td>66.16</td>\n",
       "      <td>62.80</td>\n",
       "      <td>67.00</td>\n",
       "      <td>62.64</td>\n",
       "      <td>63.54</td>\n",
       "      <td>65.18</td>\n",
       "      <td>55.65</td>\n",
       "      <td>47.63</td>\n",
       "    </tr>\n",
       "    <tr>\n",
       "      <th>2019-01-01</th>\n",
       "      <td>48.00</td>\n",
       "      <td>52.60</td>\n",
       "      <td>57.46</td>\n",
       "      <td>63.00</td>\n",
       "      <td>59.73</td>\n",
       "      <td>54.34</td>\n",
       "      <td>56.47</td>\n",
       "      <td>53.63</td>\n",
       "      <td>55.14</td>\n",
       "      <td>53.14</td>\n",
       "      <td>54.96</td>\n",
       "      <td>58.41</td>\n",
       "    </tr>\n",
       "    <tr>\n",
       "      <th>2020-01-01</th>\n",
       "      <td>56.55</td>\n",
       "      <td>49.66</td>\n",
       "      <td>31.01</td>\n",
       "      <td>15.18</td>\n",
       "      <td>18.02</td>\n",
       "      <td>33.81</td>\n",
       "      <td>37.44</td>\n",
       "      <td>39.37</td>\n",
       "      <td>36.82</td>\n",
       "      <td>36.39</td>\n",
       "      <td>38.25</td>\n",
       "      <td>43.92</td>\n",
       "    </tr>\n",
       "    <tr>\n",
       "      <th>2021-01-01</th>\n",
       "      <td>49.47</td>\n",
       "      <td>56.44</td>\n",
       "      <td>60.43</td>\n",
       "      <td>59.87</td>\n",
       "      <td>62.80</td>\n",
       "      <td>68.58</td>\n",
       "      <td>70.12</td>\n",
       "      <td>65.68</td>\n",
       "      <td>69.09</td>\n",
       "      <td>78.51</td>\n",
       "      <td>76.45</td>\n",
       "      <td>70.56</td>\n",
       "    </tr>\n",
       "    <tr>\n",
       "      <th>2022-01-01</th>\n",
       "      <td>80.33</td>\n",
       "      <td>89.41</td>\n",
       "      <td>107.07</td>\n",
       "      <td>103.32</td>\n",
       "      <td>108.29</td>\n",
       "      <td>113.77</td>\n",
       "      <td>100.84</td>\n",
       "      <td>93.76</td>\n",
       "      <td>84.62</td>\n",
       "      <td>86.61</td>\n",
       "      <td>84.43</td>\n",
       "      <td>84.43</td>\n",
       "    </tr>\n",
       "  </tbody>\n",
       "</table>\n",
       "</div>"
      ],
      "text/plain": [
       "              Jan    Feb     Mar     Apr     May     Jun     Jul    Aug  \\\n",
       "Year                                                                      \n",
       "2018-01-01  62.25  61.18   60.68   63.50   66.16   62.80   67.00  62.64   \n",
       "2019-01-01  48.00  52.60   57.46   63.00   59.73   54.34   56.47  53.63   \n",
       "2020-01-01  56.55  49.66   31.01   15.18   18.02   33.81   37.44  39.37   \n",
       "2021-01-01  49.47  56.44   60.43   59.87   62.80   68.58   70.12  65.68   \n",
       "2022-01-01  80.33  89.41  107.07  103.32  108.29  113.77  100.84  93.76   \n",
       "\n",
       "              Sep    Oct    Nov    Dec  \n",
       "Year                                    \n",
       "2018-01-01  63.54  65.18  55.65  47.63  \n",
       "2019-01-01  55.14  53.14  54.96  58.41  \n",
       "2020-01-01  36.82  36.39  38.25  43.92  \n",
       "2021-01-01  69.09  78.51  76.45  70.56  \n",
       "2022-01-01  84.62  86.61  84.43  84.43  "
      ]
     },
     "execution_count": 31,
     "metadata": {},
     "output_type": "execute_result"
    }
   ],
   "source": [
    "df.tail()"
   ]
  },
  {
   "cell_type": "code",
   "execution_count": 32,
   "metadata": {},
   "outputs": [
    {
     "data": {
      "text/html": [
       "<div>\n",
       "<style scoped>\n",
       "    .dataframe tbody tr th:only-of-type {\n",
       "        vertical-align: middle;\n",
       "    }\n",
       "\n",
       "    .dataframe tbody tr th {\n",
       "        vertical-align: top;\n",
       "    }\n",
       "\n",
       "    .dataframe thead th {\n",
       "        text-align: right;\n",
       "    }\n",
       "</style>\n",
       "<table border=\"1\" class=\"dataframe\">\n",
       "  <thead>\n",
       "    <tr style=\"text-align: right;\">\n",
       "      <th></th>\n",
       "      <th>Jan</th>\n",
       "      <th>Feb</th>\n",
       "      <th>Mar</th>\n",
       "      <th>Apr</th>\n",
       "      <th>May</th>\n",
       "      <th>Jun</th>\n",
       "      <th>Jul</th>\n",
       "      <th>Aug</th>\n",
       "      <th>Sep</th>\n",
       "      <th>Oct</th>\n",
       "      <th>Nov</th>\n",
       "      <th>Dec</th>\n",
       "    </tr>\n",
       "  </thead>\n",
       "  <tbody>\n",
       "    <tr>\n",
       "      <th>count</th>\n",
       "      <td>49.000000</td>\n",
       "      <td>49.000000</td>\n",
       "      <td>49.000000</td>\n",
       "      <td>49.000000</td>\n",
       "      <td>49.000000</td>\n",
       "      <td>49.000000</td>\n",
       "      <td>49.000000</td>\n",
       "      <td>49.000000</td>\n",
       "      <td>49.000000</td>\n",
       "      <td>49.000000</td>\n",
       "      <td>49.000000</td>\n",
       "      <td>49.000000</td>\n",
       "    </tr>\n",
       "    <tr>\n",
       "      <th>mean</th>\n",
       "      <td>34.056531</td>\n",
       "      <td>34.700612</td>\n",
       "      <td>35.695510</td>\n",
       "      <td>36.356531</td>\n",
       "      <td>36.838163</td>\n",
       "      <td>37.470408</td>\n",
       "      <td>37.761429</td>\n",
       "      <td>37.336735</td>\n",
       "      <td>37.223061</td>\n",
       "      <td>37.125102</td>\n",
       "      <td>36.197143</td>\n",
       "      <td>35.264286</td>\n",
       "    </tr>\n",
       "    <tr>\n",
       "      <th>std</th>\n",
       "      <td>26.305291</td>\n",
       "      <td>27.430847</td>\n",
       "      <td>29.516796</td>\n",
       "      <td>30.536984</td>\n",
       "      <td>30.567444</td>\n",
       "      <td>30.944175</td>\n",
       "      <td>30.889658</td>\n",
       "      <td>29.198480</td>\n",
       "      <td>28.109861</td>\n",
       "      <td>27.153059</td>\n",
       "      <td>26.683397</td>\n",
       "      <td>26.337687</td>\n",
       "    </tr>\n",
       "    <tr>\n",
       "      <th>min</th>\n",
       "      <td>6.950000</td>\n",
       "      <td>6.870000</td>\n",
       "      <td>6.770000</td>\n",
       "      <td>6.770000</td>\n",
       "      <td>6.870000</td>\n",
       "      <td>6.850000</td>\n",
       "      <td>6.800000</td>\n",
       "      <td>6.710000</td>\n",
       "      <td>6.700000</td>\n",
       "      <td>6.970000</td>\n",
       "      <td>6.970000</td>\n",
       "      <td>7.090000</td>\n",
       "    </tr>\n",
       "    <tr>\n",
       "      <th>25%</th>\n",
       "      <td>13.990000</td>\n",
       "      <td>14.510000</td>\n",
       "      <td>14.540000</td>\n",
       "      <td>14.950000</td>\n",
       "      <td>15.290000</td>\n",
       "      <td>15.020000</td>\n",
       "      <td>15.340000</td>\n",
       "      <td>15.010000</td>\n",
       "      <td>15.580000</td>\n",
       "      <td>16.250000</td>\n",
       "      <td>15.520000</td>\n",
       "      <td>14.940000</td>\n",
       "    </tr>\n",
       "    <tr>\n",
       "      <th>50%</th>\n",
       "      <td>24.640000</td>\n",
       "      <td>25.480000</td>\n",
       "      <td>26.050000</td>\n",
       "      <td>23.390000</td>\n",
       "      <td>24.180000</td>\n",
       "      <td>25.980000</td>\n",
       "      <td>25.860000</td>\n",
       "      <td>26.020000</td>\n",
       "      <td>26.080000</td>\n",
       "      <td>26.040000</td>\n",
       "      <td>26.090000</td>\n",
       "      <td>25.290000</td>\n",
       "    </tr>\n",
       "    <tr>\n",
       "      <th>75%</th>\n",
       "      <td>48.190000</td>\n",
       "      <td>49.660000</td>\n",
       "      <td>47.560000</td>\n",
       "      <td>49.300000</td>\n",
       "      <td>54.380000</td>\n",
       "      <td>55.880000</td>\n",
       "      <td>56.470000</td>\n",
       "      <td>58.900000</td>\n",
       "      <td>59.370000</td>\n",
       "      <td>53.260000</td>\n",
       "      <td>53.670000</td>\n",
       "      <td>53.240000</td>\n",
       "    </tr>\n",
       "    <tr>\n",
       "      <th>max</th>\n",
       "      <td>98.990000</td>\n",
       "      <td>102.040000</td>\n",
       "      <td>107.070000</td>\n",
       "      <td>108.800000</td>\n",
       "      <td>118.550000</td>\n",
       "      <td>127.470000</td>\n",
       "      <td>128.080000</td>\n",
       "      <td>112.830000</td>\n",
       "      <td>102.320000</td>\n",
       "      <td>96.180000</td>\n",
       "      <td>100.180000</td>\n",
       "      <td>98.710000</td>\n",
       "    </tr>\n",
       "  </tbody>\n",
       "</table>\n",
       "</div>"
      ],
      "text/plain": [
       "             Jan         Feb         Mar         Apr         May         Jun  \\\n",
       "count  49.000000   49.000000   49.000000   49.000000   49.000000   49.000000   \n",
       "mean   34.056531   34.700612   35.695510   36.356531   36.838163   37.470408   \n",
       "std    26.305291   27.430847   29.516796   30.536984   30.567444   30.944175   \n",
       "min     6.950000    6.870000    6.770000    6.770000    6.870000    6.850000   \n",
       "25%    13.990000   14.510000   14.540000   14.950000   15.290000   15.020000   \n",
       "50%    24.640000   25.480000   26.050000   23.390000   24.180000   25.980000   \n",
       "75%    48.190000   49.660000   47.560000   49.300000   54.380000   55.880000   \n",
       "max    98.990000  102.040000  107.070000  108.800000  118.550000  127.470000   \n",
       "\n",
       "              Jul         Aug         Sep        Oct         Nov        Dec  \n",
       "count   49.000000   49.000000   49.000000  49.000000   49.000000  49.000000  \n",
       "mean    37.761429   37.336735   37.223061  37.125102   36.197143  35.264286  \n",
       "std     30.889658   29.198480   28.109861  27.153059   26.683397  26.337687  \n",
       "min      6.800000    6.710000    6.700000   6.970000    6.970000   7.090000  \n",
       "25%     15.340000   15.010000   15.580000  16.250000   15.520000  14.940000  \n",
       "50%     25.860000   26.020000   26.080000  26.040000   26.090000  25.290000  \n",
       "75%     56.470000   58.900000   59.370000  53.260000   53.670000  53.240000  \n",
       "max    128.080000  112.830000  102.320000  96.180000  100.180000  98.710000  "
      ]
     },
     "execution_count": 32,
     "metadata": {},
     "output_type": "execute_result"
    }
   ],
   "source": [
    "\n",
    "df.describe()\n"
   ]
  },
  {
   "attachments": {},
   "cell_type": "markdown",
   "metadata": {},
   "source": [
    "seems kinda fine , lets plot it"
   ]
  },
  {
   "cell_type": "code",
   "execution_count": 34,
   "metadata": {},
   "outputs": [
    {
     "data": {
      "application/vnd.plotly.v1+json": {
       "config": {
        "plotlyServerURL": "https://plot.ly"
       },
       "data": [
        {
         "hovertemplate": "variable=Jan<br>Year=%{x}<br>value=%{y}<extra></extra>",
         "legendgroup": "Jan",
         "line": {
          "color": "#636efa",
          "dash": "solid"
         },
         "marker": {
          "symbol": "circle"
         },
         "mode": "lines",
         "name": "Jan",
         "orientation": "v",
         "showlegend": true,
         "type": "scatter",
         "x": [
          "1974-01-01T00:00:00",
          "1975-01-01T00:00:00",
          "1976-01-01T00:00:00",
          "1977-01-01T00:00:00",
          "1978-01-01T00:00:00",
          "1979-01-01T00:00:00",
          "1980-01-01T00:00:00",
          "1981-01-01T00:00:00",
          "1982-01-01T00:00:00",
          "1983-01-01T00:00:00",
          "1984-01-01T00:00:00",
          "1985-01-01T00:00:00",
          "1986-01-01T00:00:00",
          "1987-01-01T00:00:00",
          "1988-01-01T00:00:00",
          "1989-01-01T00:00:00",
          "1990-01-01T00:00:00",
          "1991-01-01T00:00:00",
          "1992-01-01T00:00:00",
          "1993-01-01T00:00:00",
          "1994-01-01T00:00:00",
          "1995-01-01T00:00:00",
          "1996-01-01T00:00:00",
          "1997-01-01T00:00:00",
          "1998-01-01T00:00:00",
          "1999-01-01T00:00:00",
          "2000-01-01T00:00:00",
          "2001-01-01T00:00:00",
          "2002-01-01T00:00:00",
          "2003-01-01T00:00:00",
          "2004-01-01T00:00:00",
          "2005-01-01T00:00:00",
          "2006-01-01T00:00:00",
          "2007-01-01T00:00:00",
          "2008-01-01T00:00:00",
          "2009-01-01T00:00:00",
          "2010-01-01T00:00:00",
          "2011-01-01T00:00:00",
          "2012-01-01T00:00:00",
          "2013-01-01T00:00:00",
          "2014-01-01T00:00:00",
          "2015-01-01T00:00:00",
          "2016-01-01T00:00:00",
          "2017-01-01T00:00:00",
          "2018-01-01T00:00:00",
          "2019-01-01T00:00:00",
          "2020-01-01T00:00:00",
          "2021-01-01T00:00:00",
          "2022-01-01T00:00:00"
         ],
         "xaxis": "x",
         "y": [
          6.95,
          7.61,
          8.63,
          8.5,
          8.71,
          9.46,
          17.86,
          28.81,
          30.8,
          27.22,
          25.93,
          24.26,
          23.12,
          13.79,
          13.64,
          13.8,
          18.49,
          19.6,
          13.99,
          14.7,
          10.49,
          14,
          15.43,
          21.76,
          13.45,
          8.57,
          23.53,
          24.64,
          15.89,
          28.42,
          30.35,
          40.18,
          57.85,
          49.32,
          87.06,
          35,
          72.87,
          85.66,
          98.99,
          95,
          89.57,
          43.06,
          27.02,
          48.19,
          62.25,
          48,
          56.55,
          49.47,
          80.33
         ],
         "yaxis": "y"
        },
        {
         "hovertemplate": "variable=Feb<br>Year=%{x}<br>value=%{y}<extra></extra>",
         "legendgroup": "Feb",
         "line": {
          "color": "#EF553B",
          "dash": "solid"
         },
         "marker": {
          "symbol": "circle"
         },
         "mode": "lines",
         "name": "Feb",
         "orientation": "v",
         "showlegend": true,
         "type": "scatter",
         "x": [
          "1974-01-01T00:00:00",
          "1975-01-01T00:00:00",
          "1976-01-01T00:00:00",
          "1977-01-01T00:00:00",
          "1978-01-01T00:00:00",
          "1979-01-01T00:00:00",
          "1980-01-01T00:00:00",
          "1981-01-01T00:00:00",
          "1982-01-01T00:00:00",
          "1983-01-01T00:00:00",
          "1984-01-01T00:00:00",
          "1985-01-01T00:00:00",
          "1986-01-01T00:00:00",
          "1987-01-01T00:00:00",
          "1988-01-01T00:00:00",
          "1989-01-01T00:00:00",
          "1990-01-01T00:00:00",
          "1991-01-01T00:00:00",
          "1992-01-01T00:00:00",
          "1993-01-01T00:00:00",
          "1994-01-01T00:00:00",
          "1995-01-01T00:00:00",
          "1996-01-01T00:00:00",
          "1997-01-01T00:00:00",
          "1998-01-01T00:00:00",
          "1999-01-01T00:00:00",
          "2000-01-01T00:00:00",
          "2001-01-01T00:00:00",
          "2002-01-01T00:00:00",
          "2003-01-01T00:00:00",
          "2004-01-01T00:00:00",
          "2005-01-01T00:00:00",
          "2006-01-01T00:00:00",
          "2007-01-01T00:00:00",
          "2008-01-01T00:00:00",
          "2009-01-01T00:00:00",
          "2010-01-01T00:00:00",
          "2011-01-01T00:00:00",
          "2012-01-01T00:00:00",
          "2013-01-01T00:00:00",
          "2014-01-01T00:00:00",
          "2015-01-01T00:00:00",
          "2016-01-01T00:00:00",
          "2017-01-01T00:00:00",
          "2018-01-01T00:00:00",
          "2019-01-01T00:00:00",
          "2020-01-01T00:00:00",
          "2021-01-01T00:00:00",
          "2022-01-01T00:00:00"
         ],
         "xaxis": "x",
         "y": [
          6.87,
          7.47,
          7.91,
          8.56,
          8.86,
          9.69,
          18.86,
          34.3,
          29.73,
          26.41,
          26.06,
          23.64,
          17.65,
          14.51,
          13.43,
          14.24,
          18.16,
          16.28,
          14.04,
          15.53,
          10.71,
          14.71,
          15.54,
          19.38,
          12.17,
          8.6,
          25.48,
          25.27,
          16.93,
          31.85,
          31.21,
          42.19,
          55.69,
          52.94,
          89.41,
          34.14,
          72.74,
          86.69,
          102.04,
          95.01,
          96.86,
          44.35,
          25.52,
          49.41,
          61.18,
          52.6,
          49.66,
          56.44,
          89.41
         ],
         "yaxis": "y"
        },
        {
         "hovertemplate": "variable=Mar<br>Year=%{x}<br>value=%{y}<extra></extra>",
         "legendgroup": "Mar",
         "line": {
          "color": "#00cc96",
          "dash": "solid"
         },
         "marker": {
          "symbol": "circle"
         },
         "mode": "lines",
         "name": "Mar",
         "orientation": "v",
         "showlegend": true,
         "type": "scatter",
         "x": [
          "1974-01-01T00:00:00",
          "1975-01-01T00:00:00",
          "1976-01-01T00:00:00",
          "1977-01-01T00:00:00",
          "1978-01-01T00:00:00",
          "1979-01-01T00:00:00",
          "1980-01-01T00:00:00",
          "1981-01-01T00:00:00",
          "1982-01-01T00:00:00",
          "1983-01-01T00:00:00",
          "1984-01-01T00:00:00",
          "1985-01-01T00:00:00",
          "1986-01-01T00:00:00",
          "1987-01-01T00:00:00",
          "1988-01-01T00:00:00",
          "1989-01-01T00:00:00",
          "1990-01-01T00:00:00",
          "1991-01-01T00:00:00",
          "1992-01-01T00:00:00",
          "1993-01-01T00:00:00",
          "1994-01-01T00:00:00",
          "1995-01-01T00:00:00",
          "1996-01-01T00:00:00",
          "1997-01-01T00:00:00",
          "1998-01-01T00:00:00",
          "1999-01-01T00:00:00",
          "2000-01-01T00:00:00",
          "2001-01-01T00:00:00",
          "2002-01-01T00:00:00",
          "2003-01-01T00:00:00",
          "2004-01-01T00:00:00",
          "2005-01-01T00:00:00",
          "2006-01-01T00:00:00",
          "2007-01-01T00:00:00",
          "2008-01-01T00:00:00",
          "2009-01-01T00:00:00",
          "2010-01-01T00:00:00",
          "2011-01-01T00:00:00",
          "2012-01-01T00:00:00",
          "2013-01-01T00:00:00",
          "2014-01-01T00:00:00",
          "2015-01-01T00:00:00",
          "2016-01-01T00:00:00",
          "2017-01-01T00:00:00",
          "2018-01-01T00:00:00",
          "2019-01-01T00:00:00",
          "2020-01-01T00:00:00",
          "2021-01-01T00:00:00",
          "2022-01-01T00:00:00"
         ],
         "xaxis": "x",
         "y": [
          6.77,
          7.57,
          7.78,
          8.45,
          8.8,
          9.83,
          19.33,
          34.59,
          28.31,
          26.08,
          26.05,
          23.89,
          12.62,
          14.54,
          12.96,
          15.65,
          16.57,
          15.13,
          14.12,
          15.94,
          10.94,
          14.68,
          17.63,
          17.83,
          11.15,
          10.76,
          26.19,
          22.98,
          20.28,
          30.1,
          32.86,
          47.56,
          55.64,
          54.95,
          98.44,
          42.45,
          75.77,
          99.19,
          105.42,
          95.54,
          96.17,
          42.66,
          31.87,
          46.39,
          60.68,
          57.46,
          31.01,
          60.43,
          107.07
         ],
         "yaxis": "y"
        },
        {
         "hovertemplate": "variable=Apr<br>Year=%{x}<br>value=%{y}<extra></extra>",
         "legendgroup": "Apr",
         "line": {
          "color": "#ab63fa",
          "dash": "solid"
         },
         "marker": {
          "symbol": "circle"
         },
         "mode": "lines",
         "name": "Apr",
         "orientation": "v",
         "showlegend": true,
         "type": "scatter",
         "x": [
          "1974-01-01T00:00:00",
          "1975-01-01T00:00:00",
          "1976-01-01T00:00:00",
          "1977-01-01T00:00:00",
          "1978-01-01T00:00:00",
          "1979-01-01T00:00:00",
          "1980-01-01T00:00:00",
          "1981-01-01T00:00:00",
          "1982-01-01T00:00:00",
          "1983-01-01T00:00:00",
          "1984-01-01T00:00:00",
          "1985-01-01T00:00:00",
          "1986-01-01T00:00:00",
          "1987-01-01T00:00:00",
          "1988-01-01T00:00:00",
          "1989-01-01T00:00:00",
          "1990-01-01T00:00:00",
          "1991-01-01T00:00:00",
          "1992-01-01T00:00:00",
          "1993-01-01T00:00:00",
          "1994-01-01T00:00:00",
          "1995-01-01T00:00:00",
          "1996-01-01T00:00:00",
          "1997-01-01T00:00:00",
          "1998-01-01T00:00:00",
          "1999-01-01T00:00:00",
          "2000-01-01T00:00:00",
          "2001-01-01T00:00:00",
          "2002-01-01T00:00:00",
          "2003-01-01T00:00:00",
          "2004-01-01T00:00:00",
          "2005-01-01T00:00:00",
          "2006-01-01T00:00:00",
          "2007-01-01T00:00:00",
          "2008-01-01T00:00:00",
          "2009-01-01T00:00:00",
          "2010-01-01T00:00:00",
          "2011-01-01T00:00:00",
          "2012-01-01T00:00:00",
          "2013-01-01T00:00:00",
          "2014-01-01T00:00:00",
          "2015-01-01T00:00:00",
          "2016-01-01T00:00:00",
          "2017-01-01T00:00:00",
          "2018-01-01T00:00:00",
          "2019-01-01T00:00:00",
          "2020-01-01T00:00:00",
          "2021-01-01T00:00:00",
          "2022-01-01T00:00:00"
         ],
         "xaxis": "x",
         "y": [
          6.77,
          7.55,
          7.86,
          8.41,
          8.82,
          10.33,
          20.28,
          33.92,
          27.64,
          25.85,
          25.93,
          24.19,
          10.68,
          14.95,
          13.92,
          17.04,
          14.52,
          16.16,
          15.36,
          16.15,
          12.31,
          15.84,
          19.58,
          16.63,
          11.28,
          12.82,
          23.2,
          23.39,
          22.52,
          25.45,
          33.2,
          47.26,
          62.52,
          58.2,
          106.64,
          45.19,
          78.8,
          108.8,
          103.62,
          94.41,
          96.49,
          49.3,
          35.59,
          47.23,
          63.5,
          63,
          15.18,
          59.87,
          103.32
         ],
         "yaxis": "y"
        },
        {
         "hovertemplate": "variable=May<br>Year=%{x}<br>value=%{y}<extra></extra>",
         "legendgroup": "May",
         "line": {
          "color": "#FFA15A",
          "dash": "solid"
         },
         "marker": {
          "symbol": "circle"
         },
         "mode": "lines",
         "name": "May",
         "orientation": "v",
         "showlegend": true,
         "type": "scatter",
         "x": [
          "1974-01-01T00:00:00",
          "1975-01-01T00:00:00",
          "1976-01-01T00:00:00",
          "1977-01-01T00:00:00",
          "1978-01-01T00:00:00",
          "1979-01-01T00:00:00",
          "1980-01-01T00:00:00",
          "1981-01-01T00:00:00",
          "1982-01-01T00:00:00",
          "1983-01-01T00:00:00",
          "1984-01-01T00:00:00",
          "1985-01-01T00:00:00",
          "1986-01-01T00:00:00",
          "1987-01-01T00:00:00",
          "1988-01-01T00:00:00",
          "1989-01-01T00:00:00",
          "1990-01-01T00:00:00",
          "1991-01-01T00:00:00",
          "1992-01-01T00:00:00",
          "1993-01-01T00:00:00",
          "1994-01-01T00:00:00",
          "1995-01-01T00:00:00",
          "1996-01-01T00:00:00",
          "1997-01-01T00:00:00",
          "1998-01-01T00:00:00",
          "1999-01-01T00:00:00",
          "2000-01-01T00:00:00",
          "2001-01-01T00:00:00",
          "2002-01-01T00:00:00",
          "2003-01-01T00:00:00",
          "2004-01-01T00:00:00",
          "2005-01-01T00:00:00",
          "2006-01-01T00:00:00",
          "2007-01-01T00:00:00",
          "2008-01-01T00:00:00",
          "2009-01-01T00:00:00",
          "2010-01-01T00:00:00",
          "2011-01-01T00:00:00",
          "2012-01-01T00:00:00",
          "2013-01-01T00:00:00",
          "2014-01-01T00:00:00",
          "2015-01-01T00:00:00",
          "2016-01-01T00:00:00",
          "2017-01-01T00:00:00",
          "2018-01-01T00:00:00",
          "2019-01-01T00:00:00",
          "2020-01-01T00:00:00",
          "2021-01-01T00:00:00",
          "2022-01-01T00:00:00"
         ],
         "xaxis": "x",
         "y": [
          6.87,
          7.52,
          7.89,
          8.49,
          8.81,
          10.71,
          21.05,
          32.73,
          27.66,
          26.08,
          26,
          24.18,
          10.75,
          15.29,
          14.12,
          16.76,
          13.82,
          16.44,
          16.38,
          16.03,
          14.02,
          15.85,
          17.94,
          17.23,
          11.13,
          13.92,
          25.58,
          24.06,
          23.51,
          24.95,
          35.73,
          44.03,
          64.4,
          58.9,
          118.55,
          52.67,
          70.91,
          102.46,
          95.57,
          94.75,
          95.74,
          54.38,
          41.02,
          45.19,
          66.16,
          59.73,
          18.02,
          62.8,
          108.29
         ],
         "yaxis": "y"
        },
        {
         "hovertemplate": "variable=Jun<br>Year=%{x}<br>value=%{y}<extra></extra>",
         "legendgroup": "Jun",
         "line": {
          "color": "#19d3f3",
          "dash": "solid"
         },
         "marker": {
          "symbol": "circle"
         },
         "mode": "lines",
         "name": "Jun",
         "orientation": "v",
         "showlegend": true,
         "type": "scatter",
         "x": [
          "1974-01-01T00:00:00",
          "1975-01-01T00:00:00",
          "1976-01-01T00:00:00",
          "1977-01-01T00:00:00",
          "1978-01-01T00:00:00",
          "1979-01-01T00:00:00",
          "1980-01-01T00:00:00",
          "1981-01-01T00:00:00",
          "1982-01-01T00:00:00",
          "1983-01-01T00:00:00",
          "1984-01-01T00:00:00",
          "1985-01-01T00:00:00",
          "1986-01-01T00:00:00",
          "1987-01-01T00:00:00",
          "1988-01-01T00:00:00",
          "1989-01-01T00:00:00",
          "1990-01-01T00:00:00",
          "1991-01-01T00:00:00",
          "1992-01-01T00:00:00",
          "1993-01-01T00:00:00",
          "1994-01-01T00:00:00",
          "1995-01-01T00:00:00",
          "1996-01-01T00:00:00",
          "1997-01-01T00:00:00",
          "1998-01-01T00:00:00",
          "1999-01-01T00:00:00",
          "2000-01-01T00:00:00",
          "2001-01-01T00:00:00",
          "2002-01-01T00:00:00",
          "2003-01-01T00:00:00",
          "2004-01-01T00:00:00",
          "2005-01-01T00:00:00",
          "2006-01-01T00:00:00",
          "2007-01-01T00:00:00",
          "2008-01-01T00:00:00",
          "2009-01-01T00:00:00",
          "2010-01-01T00:00:00",
          "2011-01-01T00:00:00",
          "2012-01-01T00:00:00",
          "2013-01-01T00:00:00",
          "2014-01-01T00:00:00",
          "2015-01-01T00:00:00",
          "2016-01-01T00:00:00",
          "2017-01-01T00:00:00",
          "2018-01-01T00:00:00",
          "2019-01-01T00:00:00",
          "2020-01-01T00:00:00",
          "2021-01-01T00:00:00",
          "2022-01-01T00:00:00"
         ],
         "xaxis": "x",
         "y": [
          6.85,
          7.49,
          8,
          8.44,
          9.05,
          11.7,
          21.52,
          31.68,
          28.12,
          25.98,
          26.09,
          24.07,
          10.68,
          15.95,
          13.59,
          16.42,
          12.79,
          15.58,
          17.96,
          15.06,
          14.93,
          15.02,
          16.94,
          15.88,
          10,
          14.39,
          27.62,
          23.43,
          22.59,
          26.84,
          34.53,
          49.83,
          64.65,
          62.35,
          127.47,
          63.09,
          70.77,
          97.3,
          83.59,
          93.82,
          98.68,
          55.88,
          43.96,
          42.17,
          62.8,
          54.34,
          33.81,
          68.58,
          113.77
         ],
         "yaxis": "y"
        },
        {
         "hovertemplate": "variable=Jul<br>Year=%{x}<br>value=%{y}<extra></extra>",
         "legendgroup": "Jul",
         "line": {
          "color": "#FF6692",
          "dash": "solid"
         },
         "marker": {
          "symbol": "circle"
         },
         "mode": "lines",
         "name": "Jul",
         "orientation": "v",
         "showlegend": true,
         "type": "scatter",
         "x": [
          "1974-01-01T00:00:00",
          "1975-01-01T00:00:00",
          "1976-01-01T00:00:00",
          "1977-01-01T00:00:00",
          "1978-01-01T00:00:00",
          "1979-01-01T00:00:00",
          "1980-01-01T00:00:00",
          "1981-01-01T00:00:00",
          "1982-01-01T00:00:00",
          "1983-01-01T00:00:00",
          "1984-01-01T00:00:00",
          "1985-01-01T00:00:00",
          "1986-01-01T00:00:00",
          "1987-01-01T00:00:00",
          "1988-01-01T00:00:00",
          "1989-01-01T00:00:00",
          "1990-01-01T00:00:00",
          "1991-01-01T00:00:00",
          "1992-01-01T00:00:00",
          "1993-01-01T00:00:00",
          "1994-01-01T00:00:00",
          "1995-01-01T00:00:00",
          "1996-01-01T00:00:00",
          "1997-01-01T00:00:00",
          "1998-01-01T00:00:00",
          "1999-01-01T00:00:00",
          "2000-01-01T00:00:00",
          "2001-01-01T00:00:00",
          "2002-01-01T00:00:00",
          "2003-01-01T00:00:00",
          "2004-01-01T00:00:00",
          "2005-01-01T00:00:00",
          "2006-01-01T00:00:00",
          "2007-01-01T00:00:00",
          "2008-01-01T00:00:00",
          "2009-01-01T00:00:00",
          "2010-01-01T00:00:00",
          "2011-01-01T00:00:00",
          "2012-01-01T00:00:00",
          "2013-01-01T00:00:00",
          "2014-01-01T00:00:00",
          "2015-01-01T00:00:00",
          "2016-01-01T00:00:00",
          "2017-01-01T00:00:00",
          "2018-01-01T00:00:00",
          "2019-01-01T00:00:00",
          "2020-01-01T00:00:00",
          "2021-01-01T00:00:00",
          "2022-01-01T00:00:00"
         ],
         "xaxis": "x",
         "y": [
          6.8,
          7.75,
          8.04,
          8.47,
          8.96,
          13.39,
          22.31,
          31.1,
          28.09,
          25.86,
          26.11,
          24.04,
          9.25,
          16.88,
          12.38,
          16.32,
          14.03,
          16.36,
          17.8,
          13.83,
          15.34,
          14.01,
          17.63,
          15.89,
          10.44,
          16.12,
          26.81,
          22.82,
          23.51,
          27.52,
          36.54,
          53.35,
          67.71,
          69.23,
          128.08,
          60.44,
          71.37,
          97.82,
          86.1,
          101.41,
          96.7,
          47.7,
          40.71,
          43.42,
          67,
          56.47,
          37.44,
          70.12,
          100.84
         ],
         "yaxis": "y"
        },
        {
         "hovertemplate": "variable=Aug<br>Year=%{x}<br>value=%{y}<extra></extra>",
         "legendgroup": "Aug",
         "line": {
          "color": "#B6E880",
          "dash": "solid"
         },
         "marker": {
          "symbol": "circle"
         },
         "mode": "lines",
         "name": "Aug",
         "orientation": "v",
         "showlegend": true,
         "type": "scatter",
         "x": [
          "1974-01-01T00:00:00",
          "1975-01-01T00:00:00",
          "1976-01-01T00:00:00",
          "1977-01-01T00:00:00",
          "1978-01-01T00:00:00",
          "1979-01-01T00:00:00",
          "1980-01-01T00:00:00",
          "1981-01-01T00:00:00",
          "1982-01-01T00:00:00",
          "1983-01-01T00:00:00",
          "1984-01-01T00:00:00",
          "1985-01-01T00:00:00",
          "1986-01-01T00:00:00",
          "1987-01-01T00:00:00",
          "1988-01-01T00:00:00",
          "1989-01-01T00:00:00",
          "1990-01-01T00:00:00",
          "1991-01-01T00:00:00",
          "1992-01-01T00:00:00",
          "1993-01-01T00:00:00",
          "1994-01-01T00:00:00",
          "1995-01-01T00:00:00",
          "1996-01-01T00:00:00",
          "1997-01-01T00:00:00",
          "1998-01-01T00:00:00",
          "1999-01-01T00:00:00",
          "2000-01-01T00:00:00",
          "2001-01-01T00:00:00",
          "2002-01-01T00:00:00",
          "2003-01-01T00:00:00",
          "2004-01-01T00:00:00",
          "2005-01-01T00:00:00",
          "2006-01-01T00:00:00",
          "2007-01-01T00:00:00",
          "2008-01-01T00:00:00",
          "2009-01-01T00:00:00",
          "2010-01-01T00:00:00",
          "2011-01-01T00:00:00",
          "2012-01-01T00:00:00",
          "2013-01-01T00:00:00",
          "2014-01-01T00:00:00",
          "2015-01-01T00:00:00",
          "2016-01-01T00:00:00",
          "2017-01-01T00:00:00",
          "2018-01-01T00:00:00",
          "2019-01-01T00:00:00",
          "2020-01-01T00:00:00",
          "2021-01-01T00:00:00",
          "2022-01-01T00:00:00"
         ],
         "xaxis": "x",
         "y": [
          6.71,
          7.73,
          8.03,
          8.45,
          9.05,
          14,
          22.62,
          31.1,
          27.99,
          26.03,
          26.02,
          23.99,
          9.77,
          17.06,
          12.22,
          15.01,
          21.87,
          16.6,
          17.07,
          13.75,
          14.5,
          14.13,
          18.29,
          16.19,
          10.2,
          17.58,
          27.91,
          23.08,
          24.76,
          27.94,
          40.1,
          58.9,
          67.21,
          67.77,
          112.83,
          65.28,
          72.07,
          89,
          92.53,
          102.96,
          90.72,
          39.98,
          40.46,
          44.96,
          62.64,
          53.63,
          39.37,
          65.68,
          93.76
         ],
         "yaxis": "y"
        },
        {
         "hovertemplate": "variable=Sep<br>Year=%{x}<br>value=%{y}<extra></extra>",
         "legendgroup": "Sep",
         "line": {
          "color": "#FF97FF",
          "dash": "solid"
         },
         "marker": {
          "symbol": "circle"
         },
         "mode": "lines",
         "name": "Sep",
         "orientation": "v",
         "showlegend": true,
         "type": "scatter",
         "x": [
          "1974-01-01T00:00:00",
          "1975-01-01T00:00:00",
          "1976-01-01T00:00:00",
          "1977-01-01T00:00:00",
          "1978-01-01T00:00:00",
          "1979-01-01T00:00:00",
          "1980-01-01T00:00:00",
          "1981-01-01T00:00:00",
          "1982-01-01T00:00:00",
          "1983-01-01T00:00:00",
          "1984-01-01T00:00:00",
          "1985-01-01T00:00:00",
          "1986-01-01T00:00:00",
          "1987-01-01T00:00:00",
          "1988-01-01T00:00:00",
          "1989-01-01T00:00:00",
          "1990-01-01T00:00:00",
          "1991-01-01T00:00:00",
          "1992-01-01T00:00:00",
          "1993-01-01T00:00:00",
          "1994-01-01T00:00:00",
          "1995-01-01T00:00:00",
          "1996-01-01T00:00:00",
          "1997-01-01T00:00:00",
          "1998-01-01T00:00:00",
          "1999-01-01T00:00:00",
          "2000-01-01T00:00:00",
          "2001-01-01T00:00:00",
          "2002-01-01T00:00:00",
          "2003-01-01T00:00:00",
          "2004-01-01T00:00:00",
          "2005-01-01T00:00:00",
          "2006-01-01T00:00:00",
          "2007-01-01T00:00:00",
          "2008-01-01T00:00:00",
          "2009-01-01T00:00:00",
          "2010-01-01T00:00:00",
          "2011-01-01T00:00:00",
          "2012-01-01T00:00:00",
          "2013-01-01T00:00:00",
          "2014-01-01T00:00:00",
          "2015-01-01T00:00:00",
          "2016-01-01T00:00:00",
          "2017-01-01T00:00:00",
          "2018-01-01T00:00:00",
          "2019-01-01T00:00:00",
          "2020-01-01T00:00:00",
          "2021-01-01T00:00:00",
          "2022-01-01T00:00:00"
         ],
         "xaxis": "x",
         "y": [
          6.7,
          7.75,
          8.39,
          8.43,
          9.15,
          14.57,
          22.59,
          31.1,
          27.99,
          26.08,
          25.97,
          23.96,
          11.09,
          16.25,
          11.63,
          15.58,
          28.46,
          16.71,
          17.2,
          13.39,
          13.62,
          14.49,
          19.93,
          16.41,
          11.29,
          20.03,
          29.72,
          22.37,
          26.08,
          25.23,
          40.56,
          59.64,
          59.37,
          73.27,
          98.5,
          65.28,
          71.23,
          90.22,
          95.98,
          102.32,
          86.87,
          41.6,
          40.55,
          47.17,
          63.54,
          55.14,
          36.82,
          69.09,
          84.62
         ],
         "yaxis": "y"
        },
        {
         "hovertemplate": "variable=Oct<br>Year=%{x}<br>value=%{y}<extra></extra>",
         "legendgroup": "Oct",
         "line": {
          "color": "#FECB52",
          "dash": "solid"
         },
         "marker": {
          "symbol": "circle"
         },
         "mode": "lines",
         "name": "Oct",
         "orientation": "v",
         "showlegend": true,
         "type": "scatter",
         "x": [
          "1974-01-01T00:00:00",
          "1975-01-01T00:00:00",
          "1976-01-01T00:00:00",
          "1977-01-01T00:00:00",
          "1978-01-01T00:00:00",
          "1979-01-01T00:00:00",
          "1980-01-01T00:00:00",
          "1981-01-01T00:00:00",
          "1982-01-01T00:00:00",
          "1983-01-01T00:00:00",
          "1984-01-01T00:00:00",
          "1985-01-01T00:00:00",
          "1986-01-01T00:00:00",
          "1987-01-01T00:00:00",
          "1988-01-01T00:00:00",
          "1989-01-01T00:00:00",
          "1990-01-01T00:00:00",
          "1991-01-01T00:00:00",
          "1992-01-01T00:00:00",
          "1993-01-01T00:00:00",
          "1994-01-01T00:00:00",
          "1995-01-01T00:00:00",
          "1996-01-01T00:00:00",
          "1997-01-01T00:00:00",
          "1998-01-01T00:00:00",
          "1999-01-01T00:00:00",
          "2000-01-01T00:00:00",
          "2001-01-01T00:00:00",
          "2002-01-01T00:00:00",
          "2003-01-01T00:00:00",
          "2004-01-01T00:00:00",
          "2005-01-01T00:00:00",
          "2006-01-01T00:00:00",
          "2007-01-01T00:00:00",
          "2008-01-01T00:00:00",
          "2009-01-01T00:00:00",
          "2010-01-01T00:00:00",
          "2011-01-01T00:00:00",
          "2012-01-01T00:00:00",
          "2013-01-01T00:00:00",
          "2014-01-01T00:00:00",
          "2015-01-01T00:00:00",
          "2016-01-01T00:00:00",
          "2017-01-01T00:00:00",
          "2018-01-01T00:00:00",
          "2019-01-01T00:00:00",
          "2020-01-01T00:00:00",
          "2021-01-01T00:00:00",
          "2022-01-01T00:00:00"
         ],
         "xaxis": "x",
         "y": [
          6.97,
          7.83,
          8.46,
          8.72,
          9.17,
          15.06,
          23.23,
          30.98,
          28.76,
          26.04,
          25.92,
          24.1,
          11,
          15.95,
          10.62,
          16.25,
          30.86,
          17.72,
          17.16,
          16.27,
          13.84,
          13.68,
          21.09,
          17.66,
          11.32,
          19.71,
          29.65,
          18.73,
          25.29,
          26.53,
          46.14,
          56.99,
          53.26,
          79.32,
          73.18,
          69.82,
          76.02,
          92.28,
          92.24,
          96.18,
          78.84,
          42.34,
          45,
          49.12,
          65.18,
          53.14,
          36.39,
          78.51,
          86.61
         ],
         "yaxis": "y"
        },
        {
         "hovertemplate": "variable=Nov<br>Year=%{x}<br>value=%{y}<extra></extra>",
         "legendgroup": "Nov",
         "line": {
          "color": "#636efa",
          "dash": "solid"
         },
         "marker": {
          "symbol": "circle"
         },
         "mode": "lines",
         "name": "Nov",
         "orientation": "v",
         "showlegend": true,
         "type": "scatter",
         "x": [
          "1974-01-01T00:00:00",
          "1975-01-01T00:00:00",
          "1976-01-01T00:00:00",
          "1977-01-01T00:00:00",
          "1978-01-01T00:00:00",
          "1979-01-01T00:00:00",
          "1980-01-01T00:00:00",
          "1981-01-01T00:00:00",
          "1982-01-01T00:00:00",
          "1983-01-01T00:00:00",
          "1984-01-01T00:00:00",
          "1985-01-01T00:00:00",
          "1986-01-01T00:00:00",
          "1987-01-01T00:00:00",
          "1988-01-01T00:00:00",
          "1989-01-01T00:00:00",
          "1990-01-01T00:00:00",
          "1991-01-01T00:00:00",
          "1992-01-01T00:00:00",
          "1993-01-01T00:00:00",
          "1994-01-01T00:00:00",
          "1995-01-01T00:00:00",
          "1996-01-01T00:00:00",
          "1997-01-01T00:00:00",
          "1998-01-01T00:00:00",
          "1999-01-01T00:00:00",
          "2000-01-01T00:00:00",
          "2001-01-01T00:00:00",
          "2002-01-01T00:00:00",
          "2003-01-01T00:00:00",
          "2004-01-01T00:00:00",
          "2005-01-01T00:00:00",
          "2006-01-01T00:00:00",
          "2007-01-01T00:00:00",
          "2008-01-01T00:00:00",
          "2009-01-01T00:00:00",
          "2010-01-01T00:00:00",
          "2011-01-01T00:00:00",
          "2012-01-01T00:00:00",
          "2013-01-01T00:00:00",
          "2014-01-01T00:00:00",
          "2015-01-01T00:00:00",
          "2016-01-01T00:00:00",
          "2017-01-01T00:00:00",
          "2018-01-01T00:00:00",
          "2019-01-01T00:00:00",
          "2020-01-01T00:00:00",
          "2021-01-01T00:00:00",
          "2022-01-01T00:00:00"
         ],
         "xaxis": "x",
         "y": [
          6.97,
          7.8,
          8.61,
          8.69,
          9.2,
          15.52,
          23.99,
          30.97,
          28.74,
          26.09,
          25.44,
          24.27,
          11.05,
          15.46,
          10.31,
          16.3,
          27.53,
          17.12,
          16,
          15.21,
          14.14,
          14.03,
          20.2,
          16.83,
          9.64,
          21.35,
          30.36,
          16.4,
          23.38,
          27.21,
          42.85,
          53.2,
          52.42,
          87.16,
          53.67,
          71.99,
          79.2,
          100.18,
          89.64,
          88.7,
          71.07,
          38.19,
          41.65,
          55.19,
          55.65,
          54.96,
          38.25,
          76.45,
          84.43
         ],
         "yaxis": "y"
        },
        {
         "hovertemplate": "variable=Dec<br>Year=%{x}<br>value=%{y}<extra></extra>",
         "legendgroup": "Dec",
         "line": {
          "color": "#EF553B",
          "dash": "solid"
         },
         "marker": {
          "symbol": "circle"
         },
         "mode": "lines",
         "name": "Dec",
         "orientation": "v",
         "showlegend": true,
         "type": "scatter",
         "x": [
          "1974-01-01T00:00:00",
          "1975-01-01T00:00:00",
          "1976-01-01T00:00:00",
          "1977-01-01T00:00:00",
          "1978-01-01T00:00:00",
          "1979-01-01T00:00:00",
          "1980-01-01T00:00:00",
          "1981-01-01T00:00:00",
          "1982-01-01T00:00:00",
          "1983-01-01T00:00:00",
          "1984-01-01T00:00:00",
          "1985-01-01T00:00:00",
          "1986-01-01T00:00:00",
          "1987-01-01T00:00:00",
          "1988-01-01T00:00:00",
          "1989-01-01T00:00:00",
          "1990-01-01T00:00:00",
          "1991-01-01T00:00:00",
          "1992-01-01T00:00:00",
          "1993-01-01T00:00:00",
          "1994-01-01T00:00:00",
          "1995-01-01T00:00:00",
          "1996-01-01T00:00:00",
          "1997-01-01T00:00:00",
          "1998-01-01T00:00:00",
          "1999-01-01T00:00:00",
          "2000-01-01T00:00:00",
          "2001-01-01T00:00:00",
          "2002-01-01T00:00:00",
          "2003-01-01T00:00:00",
          "2004-01-01T00:00:00",
          "2005-01-01T00:00:00",
          "2006-01-01T00:00:00",
          "2007-01-01T00:00:00",
          "2008-01-01T00:00:00",
          "2009-01-01T00:00:00",
          "2010-01-01T00:00:00",
          "2011-01-01T00:00:00",
          "2012-01-01T00:00:00",
          "2013-01-01T00:00:00",
          "2014-01-01T00:00:00",
          "2015-01-01T00:00:00",
          "2016-01-01T00:00:00",
          "2017-01-01T00:00:00",
          "2018-01-01T00:00:00",
          "2019-01-01T00:00:00",
          "2020-01-01T00:00:00",
          "2021-01-01T00:00:00",
          "2022-01-01T00:00:00"
         ],
         "xaxis": "x",
         "y": [
          7.09,
          7.93,
          8.62,
          8.81,
          9.47,
          17,
          25.83,
          30.8,
          28.02,
          25.88,
          25.05,
          24.51,
          11.73,
          14.27,
          11.99,
          17.01,
          22.63,
          14.68,
          14.94,
          12.95,
          13.43,
          15.02,
          21.34,
          15.04,
          8.03,
          22.55,
          24.46,
          15.54,
          25.29,
          28.53,
          38.22,
          53.24,
          55.03,
          85.28,
          36.8,
          70.42,
          83.98,
          98.71,
          89.81,
          91.85,
          54.86,
          32.26,
          47.12,
          56.98,
          47.63,
          58.41,
          43.92,
          70.56,
          84.43
         ],
         "yaxis": "y"
        }
       ],
       "layout": {
        "legend": {
         "title": {
          "text": "variable"
         },
         "tracegroupgap": 0
        },
        "margin": {
         "t": 60
        },
        "template": {
         "data": {
          "bar": [
           {
            "error_x": {
             "color": "#2a3f5f"
            },
            "error_y": {
             "color": "#2a3f5f"
            },
            "marker": {
             "line": {
              "color": "#E5ECF6",
              "width": 0.5
             },
             "pattern": {
              "fillmode": "overlay",
              "size": 10,
              "solidity": 0.2
             }
            },
            "type": "bar"
           }
          ],
          "barpolar": [
           {
            "marker": {
             "line": {
              "color": "#E5ECF6",
              "width": 0.5
             },
             "pattern": {
              "fillmode": "overlay",
              "size": 10,
              "solidity": 0.2
             }
            },
            "type": "barpolar"
           }
          ],
          "carpet": [
           {
            "aaxis": {
             "endlinecolor": "#2a3f5f",
             "gridcolor": "white",
             "linecolor": "white",
             "minorgridcolor": "white",
             "startlinecolor": "#2a3f5f"
            },
            "baxis": {
             "endlinecolor": "#2a3f5f",
             "gridcolor": "white",
             "linecolor": "white",
             "minorgridcolor": "white",
             "startlinecolor": "#2a3f5f"
            },
            "type": "carpet"
           }
          ],
          "choropleth": [
           {
            "colorbar": {
             "outlinewidth": 0,
             "ticks": ""
            },
            "type": "choropleth"
           }
          ],
          "contour": [
           {
            "colorbar": {
             "outlinewidth": 0,
             "ticks": ""
            },
            "colorscale": [
             [
              0,
              "#0d0887"
             ],
             [
              0.1111111111111111,
              "#46039f"
             ],
             [
              0.2222222222222222,
              "#7201a8"
             ],
             [
              0.3333333333333333,
              "#9c179e"
             ],
             [
              0.4444444444444444,
              "#bd3786"
             ],
             [
              0.5555555555555556,
              "#d8576b"
             ],
             [
              0.6666666666666666,
              "#ed7953"
             ],
             [
              0.7777777777777778,
              "#fb9f3a"
             ],
             [
              0.8888888888888888,
              "#fdca26"
             ],
             [
              1,
              "#f0f921"
             ]
            ],
            "type": "contour"
           }
          ],
          "contourcarpet": [
           {
            "colorbar": {
             "outlinewidth": 0,
             "ticks": ""
            },
            "type": "contourcarpet"
           }
          ],
          "heatmap": [
           {
            "colorbar": {
             "outlinewidth": 0,
             "ticks": ""
            },
            "colorscale": [
             [
              0,
              "#0d0887"
             ],
             [
              0.1111111111111111,
              "#46039f"
             ],
             [
              0.2222222222222222,
              "#7201a8"
             ],
             [
              0.3333333333333333,
              "#9c179e"
             ],
             [
              0.4444444444444444,
              "#bd3786"
             ],
             [
              0.5555555555555556,
              "#d8576b"
             ],
             [
              0.6666666666666666,
              "#ed7953"
             ],
             [
              0.7777777777777778,
              "#fb9f3a"
             ],
             [
              0.8888888888888888,
              "#fdca26"
             ],
             [
              1,
              "#f0f921"
             ]
            ],
            "type": "heatmap"
           }
          ],
          "heatmapgl": [
           {
            "colorbar": {
             "outlinewidth": 0,
             "ticks": ""
            },
            "colorscale": [
             [
              0,
              "#0d0887"
             ],
             [
              0.1111111111111111,
              "#46039f"
             ],
             [
              0.2222222222222222,
              "#7201a8"
             ],
             [
              0.3333333333333333,
              "#9c179e"
             ],
             [
              0.4444444444444444,
              "#bd3786"
             ],
             [
              0.5555555555555556,
              "#d8576b"
             ],
             [
              0.6666666666666666,
              "#ed7953"
             ],
             [
              0.7777777777777778,
              "#fb9f3a"
             ],
             [
              0.8888888888888888,
              "#fdca26"
             ],
             [
              1,
              "#f0f921"
             ]
            ],
            "type": "heatmapgl"
           }
          ],
          "histogram": [
           {
            "marker": {
             "pattern": {
              "fillmode": "overlay",
              "size": 10,
              "solidity": 0.2
             }
            },
            "type": "histogram"
           }
          ],
          "histogram2d": [
           {
            "colorbar": {
             "outlinewidth": 0,
             "ticks": ""
            },
            "colorscale": [
             [
              0,
              "#0d0887"
             ],
             [
              0.1111111111111111,
              "#46039f"
             ],
             [
              0.2222222222222222,
              "#7201a8"
             ],
             [
              0.3333333333333333,
              "#9c179e"
             ],
             [
              0.4444444444444444,
              "#bd3786"
             ],
             [
              0.5555555555555556,
              "#d8576b"
             ],
             [
              0.6666666666666666,
              "#ed7953"
             ],
             [
              0.7777777777777778,
              "#fb9f3a"
             ],
             [
              0.8888888888888888,
              "#fdca26"
             ],
             [
              1,
              "#f0f921"
             ]
            ],
            "type": "histogram2d"
           }
          ],
          "histogram2dcontour": [
           {
            "colorbar": {
             "outlinewidth": 0,
             "ticks": ""
            },
            "colorscale": [
             [
              0,
              "#0d0887"
             ],
             [
              0.1111111111111111,
              "#46039f"
             ],
             [
              0.2222222222222222,
              "#7201a8"
             ],
             [
              0.3333333333333333,
              "#9c179e"
             ],
             [
              0.4444444444444444,
              "#bd3786"
             ],
             [
              0.5555555555555556,
              "#d8576b"
             ],
             [
              0.6666666666666666,
              "#ed7953"
             ],
             [
              0.7777777777777778,
              "#fb9f3a"
             ],
             [
              0.8888888888888888,
              "#fdca26"
             ],
             [
              1,
              "#f0f921"
             ]
            ],
            "type": "histogram2dcontour"
           }
          ],
          "mesh3d": [
           {
            "colorbar": {
             "outlinewidth": 0,
             "ticks": ""
            },
            "type": "mesh3d"
           }
          ],
          "parcoords": [
           {
            "line": {
             "colorbar": {
              "outlinewidth": 0,
              "ticks": ""
             }
            },
            "type": "parcoords"
           }
          ],
          "pie": [
           {
            "automargin": true,
            "type": "pie"
           }
          ],
          "scatter": [
           {
            "fillpattern": {
             "fillmode": "overlay",
             "size": 10,
             "solidity": 0.2
            },
            "type": "scatter"
           }
          ],
          "scatter3d": [
           {
            "line": {
             "colorbar": {
              "outlinewidth": 0,
              "ticks": ""
             }
            },
            "marker": {
             "colorbar": {
              "outlinewidth": 0,
              "ticks": ""
             }
            },
            "type": "scatter3d"
           }
          ],
          "scattercarpet": [
           {
            "marker": {
             "colorbar": {
              "outlinewidth": 0,
              "ticks": ""
             }
            },
            "type": "scattercarpet"
           }
          ],
          "scattergeo": [
           {
            "marker": {
             "colorbar": {
              "outlinewidth": 0,
              "ticks": ""
             }
            },
            "type": "scattergeo"
           }
          ],
          "scattergl": [
           {
            "marker": {
             "colorbar": {
              "outlinewidth": 0,
              "ticks": ""
             }
            },
            "type": "scattergl"
           }
          ],
          "scattermapbox": [
           {
            "marker": {
             "colorbar": {
              "outlinewidth": 0,
              "ticks": ""
             }
            },
            "type": "scattermapbox"
           }
          ],
          "scatterpolar": [
           {
            "marker": {
             "colorbar": {
              "outlinewidth": 0,
              "ticks": ""
             }
            },
            "type": "scatterpolar"
           }
          ],
          "scatterpolargl": [
           {
            "marker": {
             "colorbar": {
              "outlinewidth": 0,
              "ticks": ""
             }
            },
            "type": "scatterpolargl"
           }
          ],
          "scatterternary": [
           {
            "marker": {
             "colorbar": {
              "outlinewidth": 0,
              "ticks": ""
             }
            },
            "type": "scatterternary"
           }
          ],
          "surface": [
           {
            "colorbar": {
             "outlinewidth": 0,
             "ticks": ""
            },
            "colorscale": [
             [
              0,
              "#0d0887"
             ],
             [
              0.1111111111111111,
              "#46039f"
             ],
             [
              0.2222222222222222,
              "#7201a8"
             ],
             [
              0.3333333333333333,
              "#9c179e"
             ],
             [
              0.4444444444444444,
              "#bd3786"
             ],
             [
              0.5555555555555556,
              "#d8576b"
             ],
             [
              0.6666666666666666,
              "#ed7953"
             ],
             [
              0.7777777777777778,
              "#fb9f3a"
             ],
             [
              0.8888888888888888,
              "#fdca26"
             ],
             [
              1,
              "#f0f921"
             ]
            ],
            "type": "surface"
           }
          ],
          "table": [
           {
            "cells": {
             "fill": {
              "color": "#EBF0F8"
             },
             "line": {
              "color": "white"
             }
            },
            "header": {
             "fill": {
              "color": "#C8D4E3"
             },
             "line": {
              "color": "white"
             }
            },
            "type": "table"
           }
          ]
         },
         "layout": {
          "annotationdefaults": {
           "arrowcolor": "#2a3f5f",
           "arrowhead": 0,
           "arrowwidth": 1
          },
          "autotypenumbers": "strict",
          "coloraxis": {
           "colorbar": {
            "outlinewidth": 0,
            "ticks": ""
           }
          },
          "colorscale": {
           "diverging": [
            [
             0,
             "#8e0152"
            ],
            [
             0.1,
             "#c51b7d"
            ],
            [
             0.2,
             "#de77ae"
            ],
            [
             0.3,
             "#f1b6da"
            ],
            [
             0.4,
             "#fde0ef"
            ],
            [
             0.5,
             "#f7f7f7"
            ],
            [
             0.6,
             "#e6f5d0"
            ],
            [
             0.7,
             "#b8e186"
            ],
            [
             0.8,
             "#7fbc41"
            ],
            [
             0.9,
             "#4d9221"
            ],
            [
             1,
             "#276419"
            ]
           ],
           "sequential": [
            [
             0,
             "#0d0887"
            ],
            [
             0.1111111111111111,
             "#46039f"
            ],
            [
             0.2222222222222222,
             "#7201a8"
            ],
            [
             0.3333333333333333,
             "#9c179e"
            ],
            [
             0.4444444444444444,
             "#bd3786"
            ],
            [
             0.5555555555555556,
             "#d8576b"
            ],
            [
             0.6666666666666666,
             "#ed7953"
            ],
            [
             0.7777777777777778,
             "#fb9f3a"
            ],
            [
             0.8888888888888888,
             "#fdca26"
            ],
            [
             1,
             "#f0f921"
            ]
           ],
           "sequentialminus": [
            [
             0,
             "#0d0887"
            ],
            [
             0.1111111111111111,
             "#46039f"
            ],
            [
             0.2222222222222222,
             "#7201a8"
            ],
            [
             0.3333333333333333,
             "#9c179e"
            ],
            [
             0.4444444444444444,
             "#bd3786"
            ],
            [
             0.5555555555555556,
             "#d8576b"
            ],
            [
             0.6666666666666666,
             "#ed7953"
            ],
            [
             0.7777777777777778,
             "#fb9f3a"
            ],
            [
             0.8888888888888888,
             "#fdca26"
            ],
            [
             1,
             "#f0f921"
            ]
           ]
          },
          "colorway": [
           "#636efa",
           "#EF553B",
           "#00cc96",
           "#ab63fa",
           "#FFA15A",
           "#19d3f3",
           "#FF6692",
           "#B6E880",
           "#FF97FF",
           "#FECB52"
          ],
          "font": {
           "color": "#2a3f5f"
          },
          "geo": {
           "bgcolor": "white",
           "lakecolor": "white",
           "landcolor": "#E5ECF6",
           "showlakes": true,
           "showland": true,
           "subunitcolor": "white"
          },
          "hoverlabel": {
           "align": "left"
          },
          "hovermode": "closest",
          "mapbox": {
           "style": "light"
          },
          "paper_bgcolor": "white",
          "plot_bgcolor": "#E5ECF6",
          "polar": {
           "angularaxis": {
            "gridcolor": "white",
            "linecolor": "white",
            "ticks": ""
           },
           "bgcolor": "#E5ECF6",
           "radialaxis": {
            "gridcolor": "white",
            "linecolor": "white",
            "ticks": ""
           }
          },
          "scene": {
           "xaxis": {
            "backgroundcolor": "#E5ECF6",
            "gridcolor": "white",
            "gridwidth": 2,
            "linecolor": "white",
            "showbackground": true,
            "ticks": "",
            "zerolinecolor": "white"
           },
           "yaxis": {
            "backgroundcolor": "#E5ECF6",
            "gridcolor": "white",
            "gridwidth": 2,
            "linecolor": "white",
            "showbackground": true,
            "ticks": "",
            "zerolinecolor": "white"
           },
           "zaxis": {
            "backgroundcolor": "#E5ECF6",
            "gridcolor": "white",
            "gridwidth": 2,
            "linecolor": "white",
            "showbackground": true,
            "ticks": "",
            "zerolinecolor": "white"
           }
          },
          "shapedefaults": {
           "line": {
            "color": "#2a3f5f"
           }
          },
          "ternary": {
           "aaxis": {
            "gridcolor": "white",
            "linecolor": "white",
            "ticks": ""
           },
           "baxis": {
            "gridcolor": "white",
            "linecolor": "white",
            "ticks": ""
           },
           "bgcolor": "#E5ECF6",
           "caxis": {
            "gridcolor": "white",
            "linecolor": "white",
            "ticks": ""
           }
          },
          "title": {
           "x": 0.05
          },
          "xaxis": {
           "automargin": true,
           "gridcolor": "white",
           "linecolor": "white",
           "ticks": "",
           "title": {
            "standoff": 15
           },
           "zerolinecolor": "white",
           "zerolinewidth": 2
          },
          "yaxis": {
           "automargin": true,
           "gridcolor": "white",
           "linecolor": "white",
           "ticks": "",
           "title": {
            "standoff": 15
           },
           "zerolinecolor": "white",
           "zerolinewidth": 2
          }
         }
        },
        "title": {
         "text": "Crude Oil Prices Over Time"
        },
        "xaxis": {
         "anchor": "y",
         "domain": [
          0,
          1
         ],
         "title": {
          "text": "Year"
         }
        },
        "yaxis": {
         "anchor": "x",
         "domain": [
          0,
          1
         ],
         "title": {
          "text": "Price ($/barrel)"
         }
        }
       }
      }
     },
     "metadata": {},
     "output_type": "display_data"
    }
   ],
   "source": [
    "import plotly.express as px\n",
    "\n",
    "\n",
    "fig = px.line(df.reset_index(), x='Year', y=df.columns)\n",
    "\n",
    "\n",
    "fig.update_layout(title='Crude Oil Prices Over Time',\n",
    "                  xaxis_title='Year',\n",
    "                  yaxis_title='Price ($/barrel)')\n",
    "\n",
    "\n",
    "fig.show()\n",
    "\n"
   ]
  },
  {
   "attachments": {},
   "cell_type": "markdown",
   "metadata": {},
   "source": [
    "we can see  fews peaks : each correspond of an important economic crisis : \n",
    "- 1981  recession\n",
    "-1989  bankruptcies ,\n",
    "-  big recession 2008\n",
    "- crise dette souveraine in europe \n",
    "- 2021-2022 to today . War in Ukraine ect \n",
    "\n",
    "each peak is accompanied by an economic/political crisis (recession)\n",
    "\n"
   ]
  },
  {
   "attachments": {},
   "cell_type": "markdown",
   "metadata": {},
   "source": [
    "### Can we forecast ? \n"
   ]
  },
  {
   "attachments": {},
   "cell_type": "markdown",
   "metadata": {},
   "source": [
    "our hypothesis is the economic/politic situation is a important feature it the evolution of the price "
   ]
  },
  {
   "attachments": {},
   "cell_type": "markdown",
   "metadata": {},
   "source": [
    "we can forecast it, but there will be no value , except if we forecast the next situation political"
   ]
  },
  {
   "attachments": {},
   "cell_type": "markdown",
   "metadata": {},
   "source": [
    "Nevertheless, let's assume that the economic situation does not influence, and make a forecast"
   ]
  },
  {
   "cell_type": "code",
   "execution_count": 38,
   "metadata": {},
   "outputs": [],
   "source": [
    "ForeCast_df = df.copy()\n",
    "# to keep the original one "
   ]
  },
  {
   "cell_type": "code",
   "execution_count": 39,
   "metadata": {},
   "outputs": [
    {
     "name": "stderr",
     "output_type": "stream",
     "text": [
      "c:\\Users\\yskon\\anaconda3\\lib\\site-packages\\statsmodels\\tsa\\base\\tsa_model.py:471: ValueWarning:\n",
      "\n",
      "No frequency information was provided, so inferred frequency AS-JAN will be used.\n",
      "\n",
      "c:\\Users\\yskon\\anaconda3\\lib\\site-packages\\statsmodels\\tsa\\base\\tsa_model.py:471: ValueWarning:\n",
      "\n",
      "No frequency information was provided, so inferred frequency AS-JAN will be used.\n",
      "\n",
      "c:\\Users\\yskon\\anaconda3\\lib\\site-packages\\statsmodels\\tsa\\statespace\\sarimax.py:866: UserWarning:\n",
      "\n",
      "Too few observations to estimate starting parameters for seasonal ARMA. All parameters except for variances will be set to zeros.\n",
      "\n"
     ]
    },
    {
     "name": "stdout",
     "output_type": "stream",
     "text": [
      "Predictions for Jan:\n",
      "2018-01-01    54.523659\n",
      "2019-01-01    51.308260\n",
      "2020-01-01    75.119100\n",
      "2021-01-01    43.736012\n",
      "2022-01-01    65.388210\n",
      "Freq: AS-JAN, Name: predicted_mean, dtype: float64\n",
      "Predictions for Feb:\n",
      "2018-01-01    53.491769\n",
      "2019-01-01    53.677174\n",
      "2020-01-01    79.558077\n",
      "2021-01-01    41.735269\n",
      "2022-01-01    66.893480\n",
      "Freq: AS-JAN, Name: predicted_mean, dtype: float64\n"
     ]
    },
    {
     "name": "stderr",
     "output_type": "stream",
     "text": [
      "c:\\Users\\yskon\\anaconda3\\lib\\site-packages\\statsmodels\\tsa\\base\\tsa_model.py:471: ValueWarning:\n",
      "\n",
      "No frequency information was provided, so inferred frequency AS-JAN will be used.\n",
      "\n",
      "c:\\Users\\yskon\\anaconda3\\lib\\site-packages\\statsmodels\\tsa\\base\\tsa_model.py:471: ValueWarning:\n",
      "\n",
      "No frequency information was provided, so inferred frequency AS-JAN will be used.\n",
      "\n",
      "c:\\Users\\yskon\\anaconda3\\lib\\site-packages\\statsmodels\\tsa\\statespace\\sarimax.py:866: UserWarning:\n",
      "\n",
      "Too few observations to estimate starting parameters for seasonal ARMA. All parameters except for variances will be set to zeros.\n",
      "\n",
      "c:\\Users\\yskon\\anaconda3\\lib\\site-packages\\statsmodels\\tsa\\base\\tsa_model.py:471: ValueWarning:\n",
      "\n",
      "No frequency information was provided, so inferred frequency AS-JAN will be used.\n",
      "\n",
      "c:\\Users\\yskon\\anaconda3\\lib\\site-packages\\statsmodels\\tsa\\base\\tsa_model.py:471: ValueWarning:\n",
      "\n",
      "No frequency information was provided, so inferred frequency AS-JAN will be used.\n",
      "\n",
      "c:\\Users\\yskon\\anaconda3\\lib\\site-packages\\statsmodels\\tsa\\statespace\\sarimax.py:866: UserWarning:\n",
      "\n",
      "Too few observations to estimate starting parameters for seasonal ARMA. All parameters except for variances will be set to zeros.\n",
      "\n"
     ]
    },
    {
     "name": "stdout",
     "output_type": "stream",
     "text": [
      "Predictions for Mar:\n",
      "2018-01-01    51.139421\n",
      "2019-01-01    52.189429\n",
      "2020-01-01    88.228673\n",
      "2021-01-01    43.175553\n",
      "2022-01-01    69.361677\n",
      "Freq: AS-JAN, Name: predicted_mean, dtype: float64\n"
     ]
    },
    {
     "name": "stderr",
     "output_type": "stream",
     "text": [
      "c:\\Users\\yskon\\anaconda3\\lib\\site-packages\\statsmodels\\tsa\\base\\tsa_model.py:471: ValueWarning:\n",
      "\n",
      "No frequency information was provided, so inferred frequency AS-JAN will be used.\n",
      "\n",
      "c:\\Users\\yskon\\anaconda3\\lib\\site-packages\\statsmodels\\tsa\\base\\tsa_model.py:471: ValueWarning:\n",
      "\n",
      "No frequency information was provided, so inferred frequency AS-JAN will be used.\n",
      "\n",
      "c:\\Users\\yskon\\anaconda3\\lib\\site-packages\\statsmodels\\tsa\\statespace\\sarimax.py:866: UserWarning:\n",
      "\n",
      "Too few observations to estimate starting parameters for seasonal ARMA. All parameters except for variances will be set to zeros.\n",
      "\n",
      "c:\\Users\\yskon\\anaconda3\\lib\\site-packages\\statsmodels\\base\\model.py:604: ConvergenceWarning:\n",
      "\n",
      "Maximum Likelihood optimization failed to converge. Check mle_retvals\n",
      "\n",
      "c:\\Users\\yskon\\anaconda3\\lib\\site-packages\\statsmodels\\tsa\\base\\tsa_model.py:471: ValueWarning:\n",
      "\n",
      "No frequency information was provided, so inferred frequency AS-JAN will be used.\n",
      "\n",
      "c:\\Users\\yskon\\anaconda3\\lib\\site-packages\\statsmodels\\tsa\\base\\tsa_model.py:471: ValueWarning:\n",
      "\n",
      "No frequency information was provided, so inferred frequency AS-JAN will be used.\n",
      "\n",
      "c:\\Users\\yskon\\anaconda3\\lib\\site-packages\\statsmodels\\tsa\\statespace\\sarimax.py:866: UserWarning:\n",
      "\n",
      "Too few observations to estimate starting parameters for seasonal ARMA. All parameters except for variances will be set to zeros.\n",
      "\n"
     ]
    },
    {
     "name": "stdout",
     "output_type": "stream",
     "text": [
      "Predictions for Apr:\n",
      "2018-01-01     60.165998\n",
      "2019-01-01     57.530867\n",
      "2020-01-01    100.967083\n",
      "2021-01-01     46.473410\n",
      "2022-01-01     76.335830\n",
      "Freq: AS-JAN, Name: predicted_mean, dtype: float64\n"
     ]
    },
    {
     "name": "stderr",
     "output_type": "stream",
     "text": [
      "c:\\Users\\yskon\\anaconda3\\lib\\site-packages\\statsmodels\\base\\model.py:604: ConvergenceWarning:\n",
      "\n",
      "Maximum Likelihood optimization failed to converge. Check mle_retvals\n",
      "\n",
      "c:\\Users\\yskon\\anaconda3\\lib\\site-packages\\statsmodels\\tsa\\base\\tsa_model.py:471: ValueWarning:\n",
      "\n",
      "No frequency information was provided, so inferred frequency AS-JAN will be used.\n",
      "\n",
      "c:\\Users\\yskon\\anaconda3\\lib\\site-packages\\statsmodels\\tsa\\base\\tsa_model.py:471: ValueWarning:\n",
      "\n",
      "No frequency information was provided, so inferred frequency AS-JAN will be used.\n",
      "\n",
      "c:\\Users\\yskon\\anaconda3\\lib\\site-packages\\statsmodels\\tsa\\statespace\\sarimax.py:866: UserWarning:\n",
      "\n",
      "Too few observations to estimate starting parameters for seasonal ARMA. All parameters except for variances will be set to zeros.\n",
      "\n"
     ]
    },
    {
     "name": "stdout",
     "output_type": "stream",
     "text": [
      "Predictions for May:\n",
      "2018-01-01     63.264925\n",
      "2019-01-01     59.232205\n",
      "2020-01-01    110.173378\n",
      "2021-01-01     54.782996\n",
      "2022-01-01     70.295989\n",
      "Freq: AS-JAN, Name: predicted_mean, dtype: float64\n"
     ]
    },
    {
     "name": "stderr",
     "output_type": "stream",
     "text": [
      "c:\\Users\\yskon\\anaconda3\\lib\\site-packages\\statsmodels\\base\\model.py:604: ConvergenceWarning:\n",
      "\n",
      "Maximum Likelihood optimization failed to converge. Check mle_retvals\n",
      "\n",
      "c:\\Users\\yskon\\anaconda3\\lib\\site-packages\\statsmodels\\tsa\\base\\tsa_model.py:471: ValueWarning:\n",
      "\n",
      "No frequency information was provided, so inferred frequency AS-JAN will be used.\n",
      "\n",
      "c:\\Users\\yskon\\anaconda3\\lib\\site-packages\\statsmodels\\tsa\\base\\tsa_model.py:471: ValueWarning:\n",
      "\n",
      "No frequency information was provided, so inferred frequency AS-JAN will be used.\n",
      "\n",
      "c:\\Users\\yskon\\anaconda3\\lib\\site-packages\\statsmodels\\tsa\\statespace\\sarimax.py:866: UserWarning:\n",
      "\n",
      "Too few observations to estimate starting parameters for seasonal ARMA. All parameters except for variances will be set to zeros.\n",
      "\n"
     ]
    },
    {
     "name": "stdout",
     "output_type": "stream",
     "text": [
      "Predictions for Jun:\n",
      "2018-01-01     59.569616\n",
      "2019-01-01     56.993550\n",
      "2020-01-01    110.399239\n",
      "2021-01-01     58.503429\n",
      "2022-01-01     65.052806\n",
      "Freq: AS-JAN, Name: predicted_mean, dtype: float64\n"
     ]
    },
    {
     "name": "stderr",
     "output_type": "stream",
     "text": [
      "c:\\Users\\yskon\\anaconda3\\lib\\site-packages\\statsmodels\\base\\model.py:604: ConvergenceWarning:\n",
      "\n",
      "Maximum Likelihood optimization failed to converge. Check mle_retvals\n",
      "\n",
      "c:\\Users\\yskon\\anaconda3\\lib\\site-packages\\statsmodels\\tsa\\base\\tsa_model.py:471: ValueWarning:\n",
      "\n",
      "No frequency information was provided, so inferred frequency AS-JAN will be used.\n",
      "\n",
      "c:\\Users\\yskon\\anaconda3\\lib\\site-packages\\statsmodels\\tsa\\base\\tsa_model.py:471: ValueWarning:\n",
      "\n",
      "No frequency information was provided, so inferred frequency AS-JAN will be used.\n",
      "\n",
      "c:\\Users\\yskon\\anaconda3\\lib\\site-packages\\statsmodels\\tsa\\statespace\\sarimax.py:866: UserWarning:\n",
      "\n",
      "Too few observations to estimate starting parameters for seasonal ARMA. All parameters except for variances will be set to zeros.\n",
      "\n"
     ]
    },
    {
     "name": "stdout",
     "output_type": "stream",
     "text": [
      "Predictions for Jul:\n",
      "2018-01-01     58.876431\n",
      "2019-01-01     59.476273\n",
      "2020-01-01    108.510528\n",
      "2021-01-01     53.503483\n",
      "2022-01-01     63.202753\n",
      "Freq: AS-JAN, Name: predicted_mean, dtype: float64\n"
     ]
    },
    {
     "name": "stderr",
     "output_type": "stream",
     "text": [
      "c:\\Users\\yskon\\anaconda3\\lib\\site-packages\\statsmodels\\base\\model.py:604: ConvergenceWarning:\n",
      "\n",
      "Maximum Likelihood optimization failed to converge. Check mle_retvals\n",
      "\n",
      "c:\\Users\\yskon\\anaconda3\\lib\\site-packages\\statsmodels\\tsa\\base\\tsa_model.py:471: ValueWarning:\n",
      "\n",
      "No frequency information was provided, so inferred frequency AS-JAN will be used.\n",
      "\n",
      "c:\\Users\\yskon\\anaconda3\\lib\\site-packages\\statsmodels\\tsa\\base\\tsa_model.py:471: ValueWarning:\n",
      "\n",
      "No frequency information was provided, so inferred frequency AS-JAN will be used.\n",
      "\n",
      "c:\\Users\\yskon\\anaconda3\\lib\\site-packages\\statsmodels\\tsa\\statespace\\sarimax.py:866: UserWarning:\n",
      "\n",
      "Too few observations to estimate starting parameters for seasonal ARMA. All parameters except for variances will be set to zeros.\n",
      "\n"
     ]
    },
    {
     "name": "stdout",
     "output_type": "stream",
     "text": [
      "Predictions for Aug:\n",
      "2018-01-01    54.063292\n",
      "2019-01-01    56.201806\n",
      "2020-01-01    95.046021\n",
      "2021-01-01    58.099276\n",
      "2022-01-01    65.144142\n",
      "Freq: AS-JAN, Name: predicted_mean, dtype: float64\n"
     ]
    },
    {
     "name": "stderr",
     "output_type": "stream",
     "text": [
      "c:\\Users\\yskon\\anaconda3\\lib\\site-packages\\statsmodels\\base\\model.py:604: ConvergenceWarning:\n",
      "\n",
      "Maximum Likelihood optimization failed to converge. Check mle_retvals\n",
      "\n",
      "c:\\Users\\yskon\\anaconda3\\lib\\site-packages\\statsmodels\\tsa\\base\\tsa_model.py:471: ValueWarning:\n",
      "\n",
      "No frequency information was provided, so inferred frequency AS-JAN will be used.\n",
      "\n",
      "c:\\Users\\yskon\\anaconda3\\lib\\site-packages\\statsmodels\\tsa\\base\\tsa_model.py:471: ValueWarning:\n",
      "\n",
      "No frequency information was provided, so inferred frequency AS-JAN will be used.\n",
      "\n",
      "c:\\Users\\yskon\\anaconda3\\lib\\site-packages\\statsmodels\\tsa\\statespace\\sarimax.py:866: UserWarning:\n",
      "\n",
      "Too few observations to estimate starting parameters for seasonal ARMA. All parameters except for variances will be set to zeros.\n",
      "\n",
      "c:\\Users\\yskon\\anaconda3\\lib\\site-packages\\statsmodels\\tsa\\base\\tsa_model.py:471: ValueWarning:\n",
      "\n",
      "No frequency information was provided, so inferred frequency AS-JAN will be used.\n",
      "\n",
      "c:\\Users\\yskon\\anaconda3\\lib\\site-packages\\statsmodels\\tsa\\base\\tsa_model.py:471: ValueWarning:\n",
      "\n",
      "No frequency information was provided, so inferred frequency AS-JAN will be used.\n",
      "\n",
      "c:\\Users\\yskon\\anaconda3\\lib\\site-packages\\statsmodels\\tsa\\statespace\\sarimax.py:866: UserWarning:\n",
      "\n",
      "Too few observations to estimate starting parameters for seasonal ARMA. All parameters except for variances will be set to zeros.\n",
      "\n"
     ]
    },
    {
     "name": "stdout",
     "output_type": "stream",
     "text": [
      "Predictions for Sep:\n",
      "2018-01-01    46.892898\n",
      "2019-01-01    58.706375\n",
      "2020-01-01    80.228584\n",
      "2021-01-01    54.007531\n",
      "2022-01-01    59.215153\n",
      "Freq: AS-JAN, Name: predicted_mean, dtype: float64\n",
      "Predictions for Oct:\n",
      "2018-01-01    45.942666\n",
      "2019-01-01    58.343213\n",
      "2020-01-01    59.452423\n",
      "2021-01-01    56.026761\n",
      "2022-01-01    55.787278\n",
      "Freq: AS-JAN, Name: predicted_mean, dtype: float64\n",
      "Predictions for Nov:\n",
      "2018-01-01    53.386619\n",
      "2019-01-01    79.211218\n",
      "2020-01-01    58.378063\n",
      "2021-01-01    70.293679\n",
      "2022-01-01    74.097799\n",
      "Freq: AS-JAN, Name: predicted_mean, dtype: float64\n",
      "Predictions for Dec:\n",
      "2018-01-01    59.097885\n",
      "2019-01-01    81.502042\n",
      "2020-01-01    49.152138\n",
      "2021-01-01    71.005724\n",
      "2022-01-01    79.082439\n",
      "Freq: AS-JAN, Name: predicted_mean, dtype: float64\n"
     ]
    },
    {
     "name": "stderr",
     "output_type": "stream",
     "text": [
      "c:\\Users\\yskon\\anaconda3\\lib\\site-packages\\statsmodels\\tsa\\base\\tsa_model.py:471: ValueWarning:\n",
      "\n",
      "No frequency information was provided, so inferred frequency AS-JAN will be used.\n",
      "\n",
      "c:\\Users\\yskon\\anaconda3\\lib\\site-packages\\statsmodels\\tsa\\base\\tsa_model.py:471: ValueWarning:\n",
      "\n",
      "No frequency information was provided, so inferred frequency AS-JAN will be used.\n",
      "\n",
      "c:\\Users\\yskon\\anaconda3\\lib\\site-packages\\statsmodels\\tsa\\statespace\\sarimax.py:866: UserWarning:\n",
      "\n",
      "Too few observations to estimate starting parameters for seasonal ARMA. All parameters except for variances will be set to zeros.\n",
      "\n"
     ]
    }
   ],
   "source": [
    "\n",
    "import statsmodels.api as sm\n",
    "\n",
    "\n",
    "\n",
    "# Loop over the columns to fit and make predictions for each month separately\n",
    "for month in ForeCast_df.columns:\n",
    "  \n",
    "    train_data = ForeCast_df[month].iloc[:-5]\n",
    "    test_data = ForeCast_df[month].iloc[-5:]\n",
    "\n",
    "    # Fit the model\n",
    "    model = sm.tsa.statespace.SARIMAX(train_data, order=(1, 1, 1), seasonal_order=(1, 1, 1, 12)).fit()\n",
    "\n",
    "   \n",
    "    predictions = model.predict(start=test_data.index[0], end=test_data.index[-1], dynamic=True)\n",
    "\n",
    "    \n",
    "    print(f\"Predictions for {month}:\")\n",
    "    print(predictions)\n"
   ]
  }
 ],
 "metadata": {
  "kernelspec": {
   "display_name": "base",
   "language": "python",
   "name": "python3"
  },
  "language_info": {
   "codemirror_mode": {
    "name": "ipython",
    "version": 3
   },
   "file_extension": ".py",
   "mimetype": "text/x-python",
   "name": "python",
   "nbconvert_exporter": "python",
   "pygments_lexer": "ipython3",
   "version": "3.9.13"
  },
  "orig_nbformat": 4
 },
 "nbformat": 4,
 "nbformat_minor": 2
}
